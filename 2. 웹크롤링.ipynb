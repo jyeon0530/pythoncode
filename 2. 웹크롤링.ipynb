{
 "cells": [
  {
   "cell_type": "markdown",
   "metadata": {},
   "source": [
    "# 연습문제4\n",
    "#시세 데이터의 일별시세 \n",
    "#리스트 날짜 종가 전일비 시가 고가 저가 거래량\n"
   ]
  },
  {
   "cell_type": "code",
   "execution_count": 1,
   "metadata": {},
   "outputs": [],
   "source": [
    "import requests"
   ]
  },
  {
   "cell_type": "code",
   "execution_count": 9,
   "metadata": {},
   "outputs": [
    {
     "data": {
      "text/plain": [
       "<Response [200]>"
      ]
     },
     "execution_count": 9,
     "metadata": {},
     "output_type": "execute_result"
    }
   ],
   "source": [
    "base_url ='https://finance.naver.com/item/sise.nhn')\n",
    "params = {\n",
    "    'code': '005930'\n",
    "}\n",
    "resp = requests.get(base_url, params = params)"
   ]
  },
  {
   "cell_type": "code",
   "execution_count": 3,
   "metadata": {},
   "outputs": [],
   "source": [
    "from bs4 import BeautifulSoup"
   ]
  },
  {
   "cell_type": "code",
   "execution_count": 5,
   "metadata": {},
   "outputs": [
    {
     "data": {
      "text/plain": [
       "bs4.BeautifulSoup"
      ]
     },
     "execution_count": 5,
     "metadata": {},
     "output_type": "execute_result"
    }
   ],
   "source": [
    "soup = BeautifulSoup(resp.text)\n",
    "type(soup)"
   ]
  },
  {
   "cell_type": "code",
   "execution_count": 11,
   "metadata": {
    "scrolled": false
   },
   "outputs": [
    {
     "data": {
      "text/plain": [
       "<iframe bottommargin=\"0\" frameborder=\"0\" height=\"360\" marginheight=\"0\" name=\"day\" scrolling=\"no\" src=\"/item/sise_time.nhn?code=005930&amp;thistime=20200731094110\" style=\"margin-top:20px;clear:both\" title=\"주요 시세\" topmargin=\"0\" width=\"100%\"></iframe>"
      ]
     },
     "execution_count": 11,
     "metadata": {},
     "output_type": "execute_result"
    }
   ],
   "source": [
    "day_sise = soup.find('iframe', attrs = {'name':'day'})\n",
    "day_sise\n"
   ]
  },
  {
   "cell_type": "markdown",
   "metadata": {},
   "source": [
    "# 올바른 url"
   ]
  },
  {
   "cell_type": "code",
   "execution_count": 12,
   "metadata": {},
   "outputs": [],
   "source": [
    "base_url = 'https://finance.naver.com/item/sise_day.nhn'\n",
    "params = {\n",
    "    'code': '005930'\n",
    "}\n",
    "resp = requests.get(base_url, params = params)\n",
    "soup = BeautifulSoup(resp.text)"
   ]
  },
  {
   "cell_type": "code",
   "execution_count": 36,
   "metadata": {},
   "outputs": [],
   "source": [
    "#soup.select('table.type2 tr')\n",
    "\n"
   ]
  },
  {
   "cell_type": "code",
   "execution_count": 39,
   "metadata": {},
   "outputs": [
    {
     "data": {
      "text/plain": [
       "16"
      ]
     },
     "execution_count": 39,
     "metadata": {},
     "output_type": "execute_result"
    }
   ],
   "source": [
    "tr_tags = soup.select('table.type2 tr')\n",
    "len(tr_tags)"
   ]
  },
  {
   "cell_type": "code",
   "execution_count": 40,
   "metadata": {},
   "outputs": [
    {
     "data": {
      "text/plain": [
       "[<tr>\n",
       " <th>날짜</th>\n",
       " <th>종가</th>\n",
       " <th>전일비</th>\n",
       " <th>시가</th>\n",
       " <th>고가</th>\n",
       " <th>저가</th>\n",
       " <th>거래량</th>\n",
       " </tr>,\n",
       " <tr>\n",
       " <td colspan=\"7\" height=\"8\"></td>\n",
       " </tr>,\n",
       " <tr onmouseout=\"mouseOut(this)\" onmouseover=\"mouseOver(this)\">\n",
       " <td align=\"center\"><span class=\"tah p10 gray03\">2020.07.31</span></td>\n",
       " <td class=\"num\"><span class=\"tah p11\">58,900</span></td>\n",
       " <td class=\"num\">\n",
       " <img alt=\"하락\" height=\"6\" src=\"https://ssl.pstatic.net/imgstock/images/images4/ico_down.gif\" style=\"margin-right:4px;\" width=\"7\"/><span class=\"tah p11 nv01\">\n",
       " \t\t\t\t100\n",
       " \t\t\t\t</span>\n",
       " </td>\n",
       " <td class=\"num\"><span class=\"tah p11\">59,500</span></td>\n",
       " <td class=\"num\"><span class=\"tah p11\">59,600</span></td>\n",
       " <td class=\"num\"><span class=\"tah p11\">58,400</span></td>\n",
       " <td class=\"num\"><span class=\"tah p11\">6,925,599</span></td>\n",
       " </tr>,\n",
       " <tr onmouseout=\"mouseOut(this)\" onmouseover=\"mouseOver(this)\">\n",
       " <td align=\"center\"><span class=\"tah p10 gray03\">2020.07.30</span></td>\n",
       " <td class=\"num\"><span class=\"tah p11\">59,000</span></td>\n",
       " <td class=\"num\">\n",
       " <span class=\"tah p11\">0</span>\n",
       " </td>\n",
       " <td class=\"num\"><span class=\"tah p11\">59,700</span></td>\n",
       " <td class=\"num\"><span class=\"tah p11\">60,100</span></td>\n",
       " <td class=\"num\"><span class=\"tah p11\">59,000</span></td>\n",
       " <td class=\"num\"><span class=\"tah p11\">19,285,354</span></td>\n",
       " </tr>,\n",
       " <tr onmouseout=\"mouseOut(this)\" onmouseover=\"mouseOver(this)\">\n",
       " <td align=\"center\"><span class=\"tah p10 gray03\">2020.07.29</span></td>\n",
       " <td class=\"num\"><span class=\"tah p11\">59,000</span></td>\n",
       " <td class=\"num\">\n",
       " <img alt=\"상승\" height=\"6\" src=\"https://ssl.pstatic.net/imgstock/images/images4/ico_up.gif\" style=\"margin-right:4px;\" width=\"7\"/><span class=\"tah p11 red02\">\n",
       " \t\t\t\t400\n",
       " \t\t\t\t</span>\n",
       " </td>\n",
       " <td class=\"num\"><span class=\"tah p11\">60,300</span></td>\n",
       " <td class=\"num\"><span class=\"tah p11\">60,400</span></td>\n",
       " <td class=\"num\"><span class=\"tah p11\">58,600</span></td>\n",
       " <td class=\"num\"><span class=\"tah p11\">36,476,611</span></td>\n",
       " </tr>,\n",
       " <tr onmouseout=\"mouseOut(this)\" onmouseover=\"mouseOver(this)\">\n",
       " <td align=\"center\"><span class=\"tah p10 gray03\">2020.07.28</span></td>\n",
       " <td class=\"num\"><span class=\"tah p11\">58,600</span></td>\n",
       " <td class=\"num\">\n",
       " <img alt=\"상승\" height=\"6\" src=\"https://ssl.pstatic.net/imgstock/images/images4/ico_up.gif\" style=\"margin-right:4px;\" width=\"7\"/><span class=\"tah p11 red02\">\n",
       " \t\t\t\t3,000\n",
       " \t\t\t\t</span>\n",
       " </td>\n",
       " <td class=\"num\"><span class=\"tah p11\">57,000</span></td>\n",
       " <td class=\"num\"><span class=\"tah p11\">58,800</span></td>\n",
       " <td class=\"num\"><span class=\"tah p11\">56,400</span></td>\n",
       " <td class=\"num\"><span class=\"tah p11\">48,431,566</span></td>\n",
       " </tr>,\n",
       " <tr onmouseout=\"mouseOut(this)\" onmouseover=\"mouseOver(this)\">\n",
       " <td align=\"center\"><span class=\"tah p10 gray03\">2020.07.27</span></td>\n",
       " <td class=\"num\"><span class=\"tah p11\">55,600</span></td>\n",
       " <td class=\"num\">\n",
       " <img alt=\"상승\" height=\"6\" src=\"https://ssl.pstatic.net/imgstock/images/images4/ico_up.gif\" style=\"margin-right:4px;\" width=\"7\"/><span class=\"tah p11 red02\">\n",
       " \t\t\t\t1,400\n",
       " \t\t\t\t</span>\n",
       " </td>\n",
       " <td class=\"num\"><span class=\"tah p11\">54,300</span></td>\n",
       " <td class=\"num\"><span class=\"tah p11\">55,700</span></td>\n",
       " <td class=\"num\"><span class=\"tah p11\">54,300</span></td>\n",
       " <td class=\"num\"><span class=\"tah p11\">21,054,421</span></td>\n",
       " </tr>,\n",
       " <tr>\n",
       " <td colspan=\"7\" height=\"8\"></td>\n",
       " </tr>,\n",
       " <tr>\n",
       " <td bgcolor=\"#e1e1e1\" colspan=\"7\" height=\"1\"></td>\n",
       " </tr>,\n",
       " <tr>\n",
       " <td colspan=\"7\" height=\"8\"></td>\n",
       " </tr>,\n",
       " <tr onmouseout=\"mouseOut(this)\" onmouseover=\"mouseOver(this)\">\n",
       " <td align=\"center\"><span class=\"tah p10 gray03\">2020.07.24</span></td>\n",
       " <td class=\"num\"><span class=\"tah p11\">54,200</span></td>\n",
       " <td class=\"num\">\n",
       " <img alt=\"상승\" height=\"6\" src=\"https://ssl.pstatic.net/imgstock/images/images4/ico_up.gif\" style=\"margin-right:4px;\" width=\"7\"/><span class=\"tah p11 red02\">\n",
       " \t\t\t\t100\n",
       " \t\t\t\t</span>\n",
       " </td>\n",
       " <td class=\"num\"><span class=\"tah p11\">54,000</span></td>\n",
       " <td class=\"num\"><span class=\"tah p11\">54,400</span></td>\n",
       " <td class=\"num\"><span class=\"tah p11\">53,700</span></td>\n",
       " <td class=\"num\"><span class=\"tah p11\">10,994,535</span></td>\n",
       " </tr>,\n",
       " <tr onmouseout=\"mouseOut(this)\" onmouseover=\"mouseOver(this)\">\n",
       " <td align=\"center\"><span class=\"tah p10 gray03\">2020.07.23</span></td>\n",
       " <td class=\"num\"><span class=\"tah p11\">54,100</span></td>\n",
       " <td class=\"num\">\n",
       " <img alt=\"하락\" height=\"6\" src=\"https://ssl.pstatic.net/imgstock/images/images4/ico_down.gif\" style=\"margin-right:4px;\" width=\"7\"/><span class=\"tah p11 nv01\">\n",
       " \t\t\t\t600\n",
       " \t\t\t\t</span>\n",
       " </td>\n",
       " <td class=\"num\"><span class=\"tah p11\">54,700</span></td>\n",
       " <td class=\"num\"><span class=\"tah p11\">54,700</span></td>\n",
       " <td class=\"num\"><span class=\"tah p11\">53,800</span></td>\n",
       " <td class=\"num\"><span class=\"tah p11\">16,214,932</span></td>\n",
       " </tr>,\n",
       " <tr onmouseout=\"mouseOut(this)\" onmouseover=\"mouseOver(this)\">\n",
       " <td align=\"center\"><span class=\"tah p10 gray03\">2020.07.22</span></td>\n",
       " <td class=\"num\"><span class=\"tah p11\">54,700</span></td>\n",
       " <td class=\"num\">\n",
       " <img alt=\"하락\" height=\"6\" src=\"https://ssl.pstatic.net/imgstock/images/images4/ico_down.gif\" style=\"margin-right:4px;\" width=\"7\"/><span class=\"tah p11 nv01\">\n",
       " \t\t\t\t600\n",
       " \t\t\t\t</span>\n",
       " </td>\n",
       " <td class=\"num\"><span class=\"tah p11\">55,300</span></td>\n",
       " <td class=\"num\"><span class=\"tah p11\">55,500</span></td>\n",
       " <td class=\"num\"><span class=\"tah p11\">54,700</span></td>\n",
       " <td class=\"num\"><span class=\"tah p11\">12,885,057</span></td>\n",
       " </tr>,\n",
       " <tr onmouseout=\"mouseOut(this)\" onmouseover=\"mouseOver(this)\">\n",
       " <td align=\"center\"><span class=\"tah p10 gray03\">2020.07.21</span></td>\n",
       " <td class=\"num\"><span class=\"tah p11\">55,300</span></td>\n",
       " <td class=\"num\">\n",
       " <img alt=\"상승\" height=\"6\" src=\"https://ssl.pstatic.net/imgstock/images/images4/ico_up.gif\" style=\"margin-right:4px;\" width=\"7\"/><span class=\"tah p11 red02\">\n",
       " \t\t\t\t1,100\n",
       " \t\t\t\t</span>\n",
       " </td>\n",
       " <td class=\"num\"><span class=\"tah p11\">55,200</span></td>\n",
       " <td class=\"num\"><span class=\"tah p11\">55,400</span></td>\n",
       " <td class=\"num\"><span class=\"tah p11\">54,800</span></td>\n",
       " <td class=\"num\"><span class=\"tah p11\">18,297,260</span></td>\n",
       " </tr>,\n",
       " <tr onmouseout=\"mouseOut(this)\" onmouseover=\"mouseOver(this)\">\n",
       " <td align=\"center\"><span class=\"tah p10 gray03\">2020.07.20</span></td>\n",
       " <td class=\"num\"><span class=\"tah p11\">54,200</span></td>\n",
       " <td class=\"num\">\n",
       " <img alt=\"하락\" height=\"6\" src=\"https://ssl.pstatic.net/imgstock/images/images4/ico_down.gif\" style=\"margin-right:4px;\" width=\"7\"/><span class=\"tah p11 nv01\">\n",
       " \t\t\t\t200\n",
       " \t\t\t\t</span>\n",
       " </td>\n",
       " <td class=\"num\"><span class=\"tah p11\">54,800</span></td>\n",
       " <td class=\"num\"><span class=\"tah p11\">54,800</span></td>\n",
       " <td class=\"num\"><span class=\"tah p11\">54,000</span></td>\n",
       " <td class=\"num\"><span class=\"tah p11\">10,507,530</span></td>\n",
       " </tr>,\n",
       " <tr>\n",
       " <td colspan=\"7\" height=\"8\"></td>\n",
       " </tr>]"
      ]
     },
     "execution_count": 40,
     "metadata": {},
     "output_type": "execute_result"
    }
   ],
   "source": [
    "tr_tags"
   ]
  },
  {
   "cell_type": "code",
   "execution_count": 41,
   "metadata": {},
   "outputs": [
    {
     "name": "stdout",
     "output_type": "stream",
     "text": [
      "['날짜', '종가', '전일비', '시가', '고가', '저가', '거래량']\n"
     ]
    }
   ],
   "source": [
    "th_tags = tr_tags[0].find_all('th')\n",
    "title_list = []\n",
    "for th in th_tags:\n",
    "    title_list.append(th.text)\n",
    "    \n",
    "print(title_list)"
   ]
  },
  {
   "cell_type": "code",
   "execution_count": 43,
   "metadata": {},
   "outputs": [
    {
     "ename": "AttributeError",
     "evalue": "ResultSet object has no attribute 'find_all'. You're probably treating a list of elements like a single element. Did you call find_all() when you meant to call find()?",
     "output_type": "error",
     "traceback": [
      "\u001b[1;31m---------------------------------------------------------------------------\u001b[0m",
      "\u001b[1;31mAttributeError\u001b[0m                            Traceback (most recent call last)",
      "\u001b[1;32m<ipython-input-43-35eec599470b>\u001b[0m in \u001b[0;36m<module>\u001b[1;34m\u001b[0m\n\u001b[0;32m      1\u001b[0m \u001b[0mresult_list\u001b[0m \u001b[1;33m=\u001b[0m \u001b[1;33m[\u001b[0m\u001b[1;33m]\u001b[0m\u001b[1;33m\u001b[0m\u001b[1;33m\u001b[0m\u001b[0m\n\u001b[0;32m      2\u001b[0m \u001b[1;32mfor\u001b[0m \u001b[0mtr_tag\u001b[0m \u001b[1;32min\u001b[0m \u001b[0mtr_tags\u001b[0m\u001b[1;33m:\u001b[0m\u001b[1;33m\u001b[0m\u001b[1;33m\u001b[0m\u001b[0m\n\u001b[1;32m----> 3\u001b[1;33m     \u001b[0mtd_tags\u001b[0m \u001b[1;33m=\u001b[0m \u001b[0mtr_tags\u001b[0m\u001b[1;33m.\u001b[0m\u001b[0mfind_all\u001b[0m\u001b[1;33m(\u001b[0m\u001b[1;34m'td'\u001b[0m\u001b[1;33m)\u001b[0m\u001b[1;33m\u001b[0m\u001b[1;33m\u001b[0m\u001b[0m\n\u001b[0m\u001b[0;32m      4\u001b[0m     \u001b[1;32mif\u001b[0m \u001b[0mlen\u001b[0m\u001b[1;33m(\u001b[0m\u001b[0mtd_tags\u001b[0m\u001b[1;33m)\u001b[0m \u001b[1;33m<\u001b[0m \u001b[1;36m7\u001b[0m\u001b[1;33m:\u001b[0m\u001b[1;33m\u001b[0m\u001b[1;33m\u001b[0m\u001b[0m\n\u001b[0;32m      5\u001b[0m         \u001b[1;32mcontinue\u001b[0m\u001b[1;33m\u001b[0m\u001b[1;33m\u001b[0m\u001b[0m\n",
      "\u001b[1;32mC:\\ProgramData\\Anaconda3\\lib\\site-packages\\bs4\\element.py\u001b[0m in \u001b[0;36m__getattr__\u001b[1;34m(self, key)\u001b[0m\n\u001b[0;32m   2158\u001b[0m     \u001b[1;32mdef\u001b[0m \u001b[0m__getattr__\u001b[0m\u001b[1;33m(\u001b[0m\u001b[0mself\u001b[0m\u001b[1;33m,\u001b[0m \u001b[0mkey\u001b[0m\u001b[1;33m)\u001b[0m\u001b[1;33m:\u001b[0m\u001b[1;33m\u001b[0m\u001b[1;33m\u001b[0m\u001b[0m\n\u001b[0;32m   2159\u001b[0m         \u001b[1;34m\"\"\"Raise a helpful exception to explain a common code fix.\"\"\"\u001b[0m\u001b[1;33m\u001b[0m\u001b[1;33m\u001b[0m\u001b[0m\n\u001b[1;32m-> 2160\u001b[1;33m         raise AttributeError(\n\u001b[0m\u001b[0;32m   2161\u001b[0m             \u001b[1;34m\"ResultSet object has no attribute '%s'. You're probably treating a list of elements like a single element. Did you call find_all() when you meant to call find()?\"\u001b[0m \u001b[1;33m%\u001b[0m \u001b[0mkey\u001b[0m\u001b[1;33m\u001b[0m\u001b[1;33m\u001b[0m\u001b[0m\n\u001b[0;32m   2162\u001b[0m         )\n",
      "\u001b[1;31mAttributeError\u001b[0m: ResultSet object has no attribute 'find_all'. You're probably treating a list of elements like a single element. Did you call find_all() when you meant to call find()?"
     ]
    }
   ],
   "source": [
    "result_list = []\n",
    "for tr_tag in tr_tags:\n",
    "    td_tags = tr_tags.find_all('td')\n",
    "    if len(td_tags) < 7:\n",
    "        continue\n",
    "        \n",
    "data_list = []\n",
    "    for td in td_tags:\n",
    "        data_list.append(td.text.strip())\n",
    "        result_list.append(\n",
    "        dict(zip(title_list, data_list))\n",
    "    )\n",
    "        "
   ]
  },
  {
   "cell_type": "code",
   "execution_count": null,
   "metadata": {},
   "outputs": [],
   "source": []
  }
 ],
 "metadata": {
  "kernelspec": {
   "display_name": "Python 3",
   "language": "python",
   "name": "python3"
  },
  "language_info": {
   "codemirror_mode": {
    "name": "ipython",
    "version": 3
   },
   "file_extension": ".py",
   "mimetype": "text/x-python",
   "name": "python",
   "nbconvert_exporter": "python",
   "pygments_lexer": "ipython3",
   "version": "3.8.3"
  }
 },
 "nbformat": 4,
 "nbformat_minor": 4
}
