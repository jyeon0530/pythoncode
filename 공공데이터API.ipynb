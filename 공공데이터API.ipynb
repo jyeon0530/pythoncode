{
 "cells": [
  {
   "cell_type": "code",
   "execution_count": 7,
   "metadata": {},
   "outputs": [],
   "source": [
    "import requests\n",
    "from bs4 import BeautifulSoup "
   ]
  },
  {
   "cell_type": "code",
   "execution_count": 11,
   "metadata": {},
   "outputs": [],
   "source": [
    "#한국수자원공사_SPI 가뭄지수정보\n",
    "url = 'http://apis.data.go.kr/B500001/drghtIdexSpiAnals/analsInfoList?hjdCd=1168058000&stDt=20190501&edDt=20190531&numOfRows=10&pageNo=1&serviceKey=ArX9sgd4FI5nn9jffw2qK5jmWV%2F7VOJLySLOEr8CQejDGKJ%2BmuxAKhXHQKVgiir%2FJKLwu1xguRobsePfp%2BEy4A%3D%3D'\n"
   ]
  },
  {
   "cell_type": "code",
   "execution_count": 9,
   "metadata": {},
   "outputs": [
    {
     "data": {
      "text/plain": [
       "<Response [200]>"
      ]
     },
     "execution_count": 9,
     "metadata": {},
     "output_type": "execute_result"
    }
   ],
   "source": [
    "resp = requests.get(url)\n",
    "resp"
   ]
  },
  {
   "cell_type": "code",
   "execution_count": 5,
   "metadata": {},
   "outputs": [],
   "source": [
    "import urllib "
   ]
  },
  {
   "cell_type": "code",
   "execution_count": 12,
   "metadata": {
    "scrolled": true
   },
   "outputs": [
    {
     "data": {
      "text/plain": [
       "ParseResult(scheme='http', netloc='apis.data.go.kr', path='/B500001/drghtIdexSpiAnals/analsInfoList', params='', query='hjdCd=1168058000&stDt=20190501&edDt=20190531&numOfRows=10&pageNo=1&serviceKey=ArX9sgd4FI5nn9jffw2qK5jmWV%2F7VOJLySLOEr8CQejDGKJ%2BmuxAKhXHQKVgiir%2FJKLwu1xguRobsePfp%2BEy4A%3D%3D', fragment='')"
      ]
     },
     "execution_count": 12,
     "metadata": {},
     "output_type": "execute_result"
    }
   ],
   "source": [
    "urllib.parse.urlparse(url)"
   ]
  },
  {
   "cell_type": "code",
   "execution_count": 15,
   "metadata": {},
   "outputs": [
    {
     "data": {
      "text/plain": [
       "'ArX9sgd4FI5nn9jffw2qK5jmWV/7VOJLySLOEr8CQejDGKJ+muxAKhXHQKVgiir/JKLwu1xguRobsePfp+Ey4A=='"
      ]
     },
     "execution_count": 15,
     "metadata": {},
     "output_type": "execute_result"
    }
   ],
   "source": [
    "#디코딩후 요청을 보낼 때 \n",
    "urllib.parse.unquote('ArX9sgd4FI5nn9jffw2qK5jmWV%2F7VOJLySLOEr8CQejDGKJ%2BmuxAKhXHQKVgiir%2FJKLwu1xguRobsePfp%2BEy4A%3D%3D')"
   ]
  },
  {
   "cell_type": "code",
   "execution_count": 39,
   "metadata": {
    "scrolled": false
   },
   "outputs": [
    {
     "name": "stdout",
     "output_type": "stream",
     "text": [
      "<OpenAPI_ServiceResponse>\n",
      "\t<cmmMsgHeader>\n",
      "\t\t<errMsg>SERVICE ERROR</errMsg>\n",
      "\t\t<returnAuthMsg>SERVICE_KEY_IS_NOT_REGISTERED_ERROR</returnAuthMsg>\n",
      "\t\t<returnReasonCode>30</returnReasonCode>\n",
      "\t</cmmMsgHeader>\n",
      "</OpenAPI_ServiceResponse>\n"
     ]
    }
   ],
   "source": [
    "print(resp.text)#response를 줄 때 실패! 잘못된것입니다~~"
   ]
  },
  {
   "cell_type": "code",
   "execution_count": 16,
   "metadata": {},
   "outputs": [],
   "source": [
    "params = {\n",
    "    'hjdCd': '1168058000',\n",
    "    'stDt': '20190501',\n",
    "    'edDt':'20190531',\n",
    "    'numOfRows':10,\n",
    "    'pageNo':1,\n",
    "    'servieceKey':'ArX9sgd4FI5nn9jffw2qK5jmWV/7VOJLySLOEr8CQejDGKJ+muxAKhXHQKVgiir/JKLwu1xguRobsePfp+Ey4A=='\n",
    "}"
   ]
  },
  {
   "cell_type": "code",
   "execution_count": 17,
   "metadata": {},
   "outputs": [
    {
     "data": {
      "text/plain": [
       "<Response [200]>"
      ]
     },
     "execution_count": 17,
     "metadata": {},
     "output_type": "execute_result"
    }
   ],
   "source": [
    "resp = requests.get(url)\n",
    "resp"
   ]
  },
  {
   "cell_type": "code",
   "execution_count": 18,
   "metadata": {
    "scrolled": true
   },
   "outputs": [
    {
     "data": {
      "text/plain": [
       "'<?xml version=\"1.0\" encoding=\"UTF-8\" standalone=\"yes\"?><response><header><resultCode>00</resultCode><resultMsg>NORMAL SERVICE.</resultMsg></header><body><items><item><anldt>20190501</anldt><anlrst>정상</anlrst><anlval>-0.18</anlval><dv>SPI6</dv><hjdcd>1168058000</hjdcd></item><item><anldt>20190501</anldt><anlrst>정상</anlrst><anlval>-0.21</anlval><dv>SPI3</dv><hjdcd>1168058000</hjdcd></item><item><anldt>20190502</anldt><anlrst>정상</anlrst><anlval>-0.21</anlval><dv>SPI3</dv><hjdcd>1168058000</hjdcd></item><item><anldt>20190502</anldt><anlrst>정상</anlrst><anlval>-0.18</anlval><dv>SPI6</dv><hjdcd>1168058000</hjdcd></item><item><anldt>20190503</anldt><anlrst>정상</anlrst><anlval>-0.26</anlval><dv>SPI3</dv><hjdcd>1168058000</hjdcd></item><item><anldt>20190503</anldt><anlrst>정상</anlrst><anlval>-0.2</anlval><dv>SPI6</dv><hjdcd>1168058000</hjdcd></item><item><anldt>20190504</anldt><anlrst>정상</anlrst><anlval>-0.55</anlval><dv>SPI3</dv><hjdcd>1168058000</hjdcd></item><item><anldt>20190504</anldt><anlrst>정상</anlrst><anlval>-0.2</anlval><dv>SPI6</dv><hjdcd>1168058000</hjdcd></item><item><anldt>20190505</anldt><anlrst>정상</anlrst><anlval>-0.2</anlval><dv>SPI6</dv><hjdcd>1168058000</hjdcd></item><item><anldt>20190505</anldt><anlrst>정상</anlrst><anlval>-0.57</anlval><dv>SPI3</dv><hjdcd>1168058000</hjdcd></item></items><numOfRows>10</numOfRows><pageNo>1</pageNo><totalCount>62</totalCount></body></response>'"
      ]
     },
     "execution_count": 18,
     "metadata": {},
     "output_type": "execute_result"
    }
   ],
   "source": [
    "resp.text"
   ]
  },
  {
   "cell_type": "code",
   "execution_count": 20,
   "metadata": {
    "scrolled": true
   },
   "outputs": [
    {
     "data": {
      "text/plain": [
       "<?xml version=\"1.0\" encoding=\"UTF-8\" standalone=\"yes\"?><html><body><response><header><resultcode>00</resultcode><resultmsg>NORMAL SERVICE.</resultmsg></header><items><item><anldt>20190501</anldt><anlrst>정상</anlrst><anlval>-0.18</anlval><dv>SPI6</dv><hjdcd>1168058000</hjdcd></item><item><anldt>20190501</anldt><anlrst>정상</anlrst><anlval>-0.21</anlval><dv>SPI3</dv><hjdcd>1168058000</hjdcd></item><item><anldt>20190502</anldt><anlrst>정상</anlrst><anlval>-0.21</anlval><dv>SPI3</dv><hjdcd>1168058000</hjdcd></item><item><anldt>20190502</anldt><anlrst>정상</anlrst><anlval>-0.18</anlval><dv>SPI6</dv><hjdcd>1168058000</hjdcd></item><item><anldt>20190503</anldt><anlrst>정상</anlrst><anlval>-0.26</anlval><dv>SPI3</dv><hjdcd>1168058000</hjdcd></item><item><anldt>20190503</anldt><anlrst>정상</anlrst><anlval>-0.2</anlval><dv>SPI6</dv><hjdcd>1168058000</hjdcd></item><item><anldt>20190504</anldt><anlrst>정상</anlrst><anlval>-0.55</anlval><dv>SPI3</dv><hjdcd>1168058000</hjdcd></item><item><anldt>20190504</anldt><anlrst>정상</anlrst><anlval>-0.2</anlval><dv>SPI6</dv><hjdcd>1168058000</hjdcd></item><item><anldt>20190505</anldt><anlrst>정상</anlrst><anlval>-0.2</anlval><dv>SPI6</dv><hjdcd>1168058000</hjdcd></item><item><anldt>20190505</anldt><anlrst>정상</anlrst><anlval>-0.57</anlval><dv>SPI3</dv><hjdcd>1168058000</hjdcd></item></items><numofrows>10</numofrows><pageno>1</pageno><totalcount>62</totalcount></response></body></html>"
      ]
     },
     "execution_count": 20,
     "metadata": {},
     "output_type": "execute_result"
    }
   ],
   "source": [
    "soup = BeautifulSoup(resp.text, 'lxml')#xml parsing\n",
    "soup"
   ]
  },
  {
   "cell_type": "code",
   "execution_count": 22,
   "metadata": {},
   "outputs": [],
   "source": [
    "header = soup.find('header')\n",
    "body = soup.find('body')"
   ]
  },
  {
   "cell_type": "code",
   "execution_count": 23,
   "metadata": {},
   "outputs": [
    {
     "data": {
      "text/plain": [
       "('00', 'NORMAL SERVICE.')"
      ]
     },
     "execution_count": 23,
     "metadata": {},
     "output_type": "execute_result"
    }
   ],
   "source": [
    "result_code = header.find('resultcode').text\n",
    "result_msg = header.find('resultmsg').text\n",
    "result_code, result_msg"
   ]
  },
  {
   "cell_type": "code",
   "execution_count": 24,
   "metadata": {},
   "outputs": [
    {
     "data": {
      "text/plain": [
       "('10', '1', '62')"
      ]
     },
     "execution_count": 24,
     "metadata": {},
     "output_type": "execute_result"
    }
   ],
   "source": [
    "num_of_rows = body.find('numofrows').text\n",
    "page_no = body.find('pageno').text\n",
    "total_count= body.find('totalcount').text\n",
    "num_of_rows, page_no, total_count"
   ]
  },
  {
   "cell_type": "code",
   "execution_count": 29,
   "metadata": {},
   "outputs": [
    {
     "data": {
      "text/plain": [
       "[{'anldt': '20190501',\n",
       "  'anlrst': '정상',\n",
       "  'anlval': '-0.18',\n",
       "  'dv': 'SPI6',\n",
       "  'hjdcd': '1168058000'},\n",
       " {'anldt': '20190501',\n",
       "  'anlrst': '정상',\n",
       "  'anlval': '-0.21',\n",
       "  'dv': 'SPI3',\n",
       "  'hjdcd': '1168058000'},\n",
       " {'anldt': '20190502',\n",
       "  'anlrst': '정상',\n",
       "  'anlval': '-0.21',\n",
       "  'dv': 'SPI3',\n",
       "  'hjdcd': '1168058000'},\n",
       " {'anldt': '20190502',\n",
       "  'anlrst': '정상',\n",
       "  'anlval': '-0.18',\n",
       "  'dv': 'SPI6',\n",
       "  'hjdcd': '1168058000'},\n",
       " {'anldt': '20190503',\n",
       "  'anlrst': '정상',\n",
       "  'anlval': '-0.26',\n",
       "  'dv': 'SPI3',\n",
       "  'hjdcd': '1168058000'},\n",
       " {'anldt': '20190503',\n",
       "  'anlrst': '정상',\n",
       "  'anlval': '-0.2',\n",
       "  'dv': 'SPI6',\n",
       "  'hjdcd': '1168058000'},\n",
       " {'anldt': '20190504',\n",
       "  'anlrst': '정상',\n",
       "  'anlval': '-0.55',\n",
       "  'dv': 'SPI3',\n",
       "  'hjdcd': '1168058000'},\n",
       " {'anldt': '20190504',\n",
       "  'anlrst': '정상',\n",
       "  'anlval': '-0.2',\n",
       "  'dv': 'SPI6',\n",
       "  'hjdcd': '1168058000'},\n",
       " {'anldt': '20190505',\n",
       "  'anlrst': '정상',\n",
       "  'anlval': '-0.2',\n",
       "  'dv': 'SPI6',\n",
       "  'hjdcd': '1168058000'},\n",
       " {'anldt': '20190505',\n",
       "  'anlrst': '정상',\n",
       "  'anlval': '-0.57',\n",
       "  'dv': 'SPI3',\n",
       "  'hjdcd': '1168058000'}]"
      ]
     },
     "execution_count": 29,
     "metadata": {},
     "output_type": "execute_result"
    }
   ],
   "source": [
    "items = body.find_all('item')\n",
    "items\n",
    "result_list = []\n",
    "for item in items:\n",
    "    result_list.append({\n",
    "        'anldt': item.find('anldt').text,\n",
    "        'anlrst': item.find('anlrst').text,\n",
    "        'anlval': item.find('anlval').text,\n",
    "        'dv': item.find('dv').text,\n",
    "        'hjdcd':item.find('hjdcd').text\n",
    "    })\n",
    "    \n",
    "result_list"
   ]
  },
  {
   "cell_type": "code",
   "execution_count": 102,
   "metadata": {},
   "outputs": [
    {
     "data": {
      "text/plain": [
       "'20200806'"
      ]
     },
     "execution_count": 102,
     "metadata": {},
     "output_type": "execute_result"
    }
   ],
   "source": [
    "import datetime\n",
    "now = datetime.datetime.now()\n",
    "today=now.strftime('%Y%m%d')\n",
    "today"
   ]
  },
  {
   "cell_type": "code",
   "execution_count": 116,
   "metadata": {},
   "outputs": [
    {
     "data": {
      "text/plain": [
       "'{\"response\":{\"header\":{\"resultCode\":\"00\",\"resultMsg\":\"NORMAL SERVICE.\"},\"body\":{\"items\":{\"item\":[{\"anldt\":20190501,\"anlrst\":\"정상\",\"anlval\":-0.18,\"dv\":\"SPI6\",\"hjdcd\":1168058000},{\"anldt\":20190501,\"anlrst\":\"정상\",\"anlval\":-0.21,\"dv\":\"SPI3\",\"hjdcd\":1168058000},{\"anldt\":20190502,\"anlrst\":\"정상\",\"anlval\":-0.21,\"dv\":\"SPI3\",\"hjdcd\":1168058000},{\"anldt\":20190502,\"anlrst\":\"정상\",\"anlval\":-0.18,\"dv\":\"SPI6\",\"hjdcd\":1168058000},{\"anldt\":20190503,\"anlrst\":\"정상\",\"anlval\":-0.26,\"dv\":\"SPI3\",\"hjdcd\":1168058000},{\"anldt\":20190503,\"anlrst\":\"정상\",\"anlval\":-0.2,\"dv\":\"SPI6\",\"hjdcd\":1168058000},{\"anldt\":20190504,\"anlrst\":\"정상\",\"anlval\":-0.55,\"dv\":\"SPI3\",\"hjdcd\":1168058000},{\"anldt\":20190504,\"anlrst\":\"정상\",\"anlval\":-0.2,\"dv\":\"SPI6\",\"hjdcd\":1168058000},{\"anldt\":20190505,\"anlrst\":\"정상\",\"anlval\":-0.2,\"dv\":\"SPI6\",\"hjdcd\":1168058000},{\"anldt\":20190505,\"anlrst\":\"정상\",\"anlval\":-0.57,\"dv\":\"SPI3\",\"hjdcd\":1168058000}]},\"numOfRows\":10,\"pageNo\":1,\"totalCount\":62}}}'"
      ]
     },
     "execution_count": 116,
     "metadata": {},
     "output_type": "execute_result"
    }
   ],
   "source": [
    "url = 'http://apis.data.go.kr/B500001/drghtIdexSpiAnals/analsInfoList?hjdCd=1168058000&stDt=20190501&edDt=20190531&numOfRows=10&pageNo=1&serviceKey=ArX9sgd4FI5nn9jffw2qK5jmWV%2F7VOJLySLOEr8CQejDGKJ%2BmuxAKhXHQKVgiir%2FJKLwu1xguRobsePfp%2BEy4A%3D%3D'\n",
    "\n",
    "params = {\n",
    "    'hjdCd': '1168058000',\n",
    "    'stDt': '20130501',\n",
    "    'edDt':today,\n",
    "    'numOfRows':1000000,\n",
    "    'pageNo':1,\n",
    "    'servieceKey':'ArX9sgd4FI5nn9jffw2qK5jmWV/7VOJLySLOEr8CQejDGKJ+muxAKhXHQKVgiir/JKLwu1xguRobsePfp+Ey4A==',\n",
    "    '_type':'json'\n",
    "}\n",
    "\n",
    "\n",
    "resp = requests.get(url, params=params)\n",
    "resp\n",
    "resp.text"
   ]
  },
  {
   "cell_type": "code",
   "execution_count": 117,
   "metadata": {
    "scrolled": true
   },
   "outputs": [
    {
     "data": {
      "text/plain": [
       "{'response': {'header': {'resultCode': '00', 'resultMsg': 'NORMAL SERVICE.'},\n",
       "  'body': {'items': {'item': [{'anldt': 20190501,\n",
       "      'anlrst': '정상',\n",
       "      'anlval': -0.18,\n",
       "      'dv': 'SPI6',\n",
       "      'hjdcd': 1168058000},\n",
       "     {'anldt': 20190501,\n",
       "      'anlrst': '정상',\n",
       "      'anlval': -0.21,\n",
       "      'dv': 'SPI3',\n",
       "      'hjdcd': 1168058000},\n",
       "     {'anldt': 20190502,\n",
       "      'anlrst': '정상',\n",
       "      'anlval': -0.21,\n",
       "      'dv': 'SPI3',\n",
       "      'hjdcd': 1168058000},\n",
       "     {'anldt': 20190502,\n",
       "      'anlrst': '정상',\n",
       "      'anlval': -0.18,\n",
       "      'dv': 'SPI6',\n",
       "      'hjdcd': 1168058000},\n",
       "     {'anldt': 20190503,\n",
       "      'anlrst': '정상',\n",
       "      'anlval': -0.26,\n",
       "      'dv': 'SPI3',\n",
       "      'hjdcd': 1168058000},\n",
       "     {'anldt': 20190503,\n",
       "      'anlrst': '정상',\n",
       "      'anlval': -0.2,\n",
       "      'dv': 'SPI6',\n",
       "      'hjdcd': 1168058000},\n",
       "     {'anldt': 20190504,\n",
       "      'anlrst': '정상',\n",
       "      'anlval': -0.55,\n",
       "      'dv': 'SPI3',\n",
       "      'hjdcd': 1168058000},\n",
       "     {'anldt': 20190504,\n",
       "      'anlrst': '정상',\n",
       "      'anlval': -0.2,\n",
       "      'dv': 'SPI6',\n",
       "      'hjdcd': 1168058000},\n",
       "     {'anldt': 20190505,\n",
       "      'anlrst': '정상',\n",
       "      'anlval': -0.2,\n",
       "      'dv': 'SPI6',\n",
       "      'hjdcd': 1168058000},\n",
       "     {'anldt': 20190505,\n",
       "      'anlrst': '정상',\n",
       "      'anlval': -0.57,\n",
       "      'dv': 'SPI3',\n",
       "      'hjdcd': 1168058000}]},\n",
       "   'numOfRows': 10,\n",
       "   'pageNo': 1,\n",
       "   'totalCount': 62}}}"
      ]
     },
     "execution_count": 117,
     "metadata": {},
     "output_type": "execute_result"
    }
   ],
   "source": [
    "import json\n",
    "data = resp.json()\n",
    "data"
   ]
  },
  {
   "cell_type": "code",
   "execution_count": 43,
   "metadata": {},
   "outputs": [],
   "source": [
    "import pandas as pd"
   ]
  },
  {
   "cell_type": "code",
   "execution_count": 118,
   "metadata": {},
   "outputs": [
    {
     "data": {
      "text/plain": [
       "dict_keys(['response'])"
      ]
     },
     "execution_count": 118,
     "metadata": {},
     "output_type": "execute_result"
    }
   ],
   "source": [
    "data.keys()"
   ]
  },
  {
   "cell_type": "code",
   "execution_count": 119,
   "metadata": {},
   "outputs": [],
   "source": [
    "items = data['response']['body']['items']['item']"
   ]
  },
  {
   "cell_type": "code",
   "execution_count": 120,
   "metadata": {},
   "outputs": [
    {
     "data": {
      "text/html": [
       "<div>\n",
       "<style scoped>\n",
       "    .dataframe tbody tr th:only-of-type {\n",
       "        vertical-align: middle;\n",
       "    }\n",
       "\n",
       "    .dataframe tbody tr th {\n",
       "        vertical-align: top;\n",
       "    }\n",
       "\n",
       "    .dataframe thead th {\n",
       "        text-align: right;\n",
       "    }\n",
       "</style>\n",
       "<table border=\"1\" class=\"dataframe\">\n",
       "  <thead>\n",
       "    <tr style=\"text-align: right;\">\n",
       "      <th></th>\n",
       "      <th>anldt</th>\n",
       "      <th>anlrst</th>\n",
       "      <th>anlval</th>\n",
       "      <th>dv</th>\n",
       "      <th>hjdcd</th>\n",
       "    </tr>\n",
       "  </thead>\n",
       "  <tbody>\n",
       "    <tr>\n",
       "      <th>0</th>\n",
       "      <td>20190501</td>\n",
       "      <td>정상</td>\n",
       "      <td>-0.18</td>\n",
       "      <td>SPI6</td>\n",
       "      <td>1168058000</td>\n",
       "    </tr>\n",
       "    <tr>\n",
       "      <th>1</th>\n",
       "      <td>20190501</td>\n",
       "      <td>정상</td>\n",
       "      <td>-0.21</td>\n",
       "      <td>SPI3</td>\n",
       "      <td>1168058000</td>\n",
       "    </tr>\n",
       "    <tr>\n",
       "      <th>2</th>\n",
       "      <td>20190502</td>\n",
       "      <td>정상</td>\n",
       "      <td>-0.21</td>\n",
       "      <td>SPI3</td>\n",
       "      <td>1168058000</td>\n",
       "    </tr>\n",
       "    <tr>\n",
       "      <th>3</th>\n",
       "      <td>20190502</td>\n",
       "      <td>정상</td>\n",
       "      <td>-0.18</td>\n",
       "      <td>SPI6</td>\n",
       "      <td>1168058000</td>\n",
       "    </tr>\n",
       "    <tr>\n",
       "      <th>4</th>\n",
       "      <td>20190503</td>\n",
       "      <td>정상</td>\n",
       "      <td>-0.26</td>\n",
       "      <td>SPI3</td>\n",
       "      <td>1168058000</td>\n",
       "    </tr>\n",
       "  </tbody>\n",
       "</table>\n",
       "</div>"
      ],
      "text/plain": [
       "      anldt anlrst  anlval    dv       hjdcd\n",
       "0  20190501     정상   -0.18  SPI6  1168058000\n",
       "1  20190501     정상   -0.21  SPI3  1168058000\n",
       "2  20190502     정상   -0.21  SPI3  1168058000\n",
       "3  20190502     정상   -0.18  SPI6  1168058000\n",
       "4  20190503     정상   -0.26  SPI3  1168058000"
      ]
     },
     "execution_count": 120,
     "metadata": {},
     "output_type": "execute_result"
    }
   ],
   "source": [
    "dright_idx = pd.DataFrame(items)\n",
    "dright_idx.head()"
   ]
  },
  {
   "cell_type": "code",
   "execution_count": 121,
   "metadata": {},
   "outputs": [
    {
     "data": {
      "text/html": [
       "<div>\n",
       "<style scoped>\n",
       "    .dataframe tbody tr th:only-of-type {\n",
       "        vertical-align: middle;\n",
       "    }\n",
       "\n",
       "    .dataframe tbody tr th {\n",
       "        vertical-align: top;\n",
       "    }\n",
       "\n",
       "    .dataframe thead th {\n",
       "        text-align: right;\n",
       "    }\n",
       "</style>\n",
       "<table border=\"1\" class=\"dataframe\">\n",
       "  <thead>\n",
       "    <tr style=\"text-align: right;\">\n",
       "      <th></th>\n",
       "      <th>anldt</th>\n",
       "      <th>anlval</th>\n",
       "      <th>hjdcd</th>\n",
       "    </tr>\n",
       "  </thead>\n",
       "  <tbody>\n",
       "    <tr>\n",
       "      <th>count</th>\n",
       "      <td>1.000000e+01</td>\n",
       "      <td>10.000000</td>\n",
       "      <td>1.000000e+01</td>\n",
       "    </tr>\n",
       "    <tr>\n",
       "      <th>mean</th>\n",
       "      <td>2.019050e+07</td>\n",
       "      <td>-0.276000</td>\n",
       "      <td>1.168058e+09</td>\n",
       "    </tr>\n",
       "    <tr>\n",
       "      <th>std</th>\n",
       "      <td>1.490712e+00</td>\n",
       "      <td>0.151379</td>\n",
       "      <td>0.000000e+00</td>\n",
       "    </tr>\n",
       "    <tr>\n",
       "      <th>min</th>\n",
       "      <td>2.019050e+07</td>\n",
       "      <td>-0.570000</td>\n",
       "      <td>1.168058e+09</td>\n",
       "    </tr>\n",
       "    <tr>\n",
       "      <th>25%</th>\n",
       "      <td>2.019050e+07</td>\n",
       "      <td>-0.247500</td>\n",
       "      <td>1.168058e+09</td>\n",
       "    </tr>\n",
       "    <tr>\n",
       "      <th>50%</th>\n",
       "      <td>2.019050e+07</td>\n",
       "      <td>-0.205000</td>\n",
       "      <td>1.168058e+09</td>\n",
       "    </tr>\n",
       "    <tr>\n",
       "      <th>75%</th>\n",
       "      <td>2.019050e+07</td>\n",
       "      <td>-0.200000</td>\n",
       "      <td>1.168058e+09</td>\n",
       "    </tr>\n",
       "    <tr>\n",
       "      <th>max</th>\n",
       "      <td>2.019050e+07</td>\n",
       "      <td>-0.180000</td>\n",
       "      <td>1.168058e+09</td>\n",
       "    </tr>\n",
       "  </tbody>\n",
       "</table>\n",
       "</div>"
      ],
      "text/plain": [
       "              anldt     anlval         hjdcd\n",
       "count  1.000000e+01  10.000000  1.000000e+01\n",
       "mean   2.019050e+07  -0.276000  1.168058e+09\n",
       "std    1.490712e+00   0.151379  0.000000e+00\n",
       "min    2.019050e+07  -0.570000  1.168058e+09\n",
       "25%    2.019050e+07  -0.247500  1.168058e+09\n",
       "50%    2.019050e+07  -0.205000  1.168058e+09\n",
       "75%    2.019050e+07  -0.200000  1.168058e+09\n",
       "max    2.019050e+07  -0.180000  1.168058e+09"
      ]
     },
     "execution_count": 121,
     "metadata": {},
     "output_type": "execute_result"
    }
   ],
   "source": [
    "dright_idx.describe()"
   ]
  },
  {
   "cell_type": "code",
   "execution_count": 122,
   "metadata": {
    "scrolled": true
   },
   "outputs": [
    {
     "name": "stdout",
     "output_type": "stream",
     "text": [
      "<class 'pandas.core.frame.DataFrame'>\n",
      "RangeIndex: 10 entries, 0 to 9\n",
      "Data columns (total 5 columns):\n",
      " #   Column  Non-Null Count  Dtype  \n",
      "---  ------  --------------  -----  \n",
      " 0   anldt   10 non-null     int64  \n",
      " 1   anlrst  10 non-null     object \n",
      " 2   anlval  10 non-null     float64\n",
      " 3   dv      10 non-null     object \n",
      " 4   hjdcd   10 non-null     int64  \n",
      "dtypes: float64(1), int64(2), object(2)\n",
      "memory usage: 528.0+ bytes\n"
     ]
    }
   ],
   "source": [
    "dright_idx.info()"
   ]
  },
  {
   "cell_type": "code",
   "execution_count": 123,
   "metadata": {},
   "outputs": [],
   "source": [
    "import numpy as np"
   ]
  },
  {
   "cell_type": "code",
   "execution_count": 124,
   "metadata": {},
   "outputs": [
    {
     "data": {
      "text/html": [
       "<div>\n",
       "<style scoped>\n",
       "    .dataframe tbody tr th:only-of-type {\n",
       "        vertical-align: middle;\n",
       "    }\n",
       "\n",
       "    .dataframe tbody tr th {\n",
       "        vertical-align: top;\n",
       "    }\n",
       "\n",
       "    .dataframe thead th {\n",
       "        text-align: right;\n",
       "    }\n",
       "</style>\n",
       "<table border=\"1\" class=\"dataframe\">\n",
       "  <thead>\n",
       "    <tr style=\"text-align: right;\">\n",
       "      <th></th>\n",
       "      <th>anldt</th>\n",
       "      <th>anlval</th>\n",
       "      <th>hjdcd</th>\n",
       "    </tr>\n",
       "  </thead>\n",
       "  <tbody>\n",
       "    <tr>\n",
       "      <th>count</th>\n",
       "      <td>1.000000e+01</td>\n",
       "      <td>10.000000</td>\n",
       "      <td>1.000000e+01</td>\n",
       "    </tr>\n",
       "    <tr>\n",
       "      <th>mean</th>\n",
       "      <td>2.019050e+07</td>\n",
       "      <td>-0.276000</td>\n",
       "      <td>1.168058e+09</td>\n",
       "    </tr>\n",
       "    <tr>\n",
       "      <th>std</th>\n",
       "      <td>1.490712e+00</td>\n",
       "      <td>0.151379</td>\n",
       "      <td>0.000000e+00</td>\n",
       "    </tr>\n",
       "    <tr>\n",
       "      <th>min</th>\n",
       "      <td>2.019050e+07</td>\n",
       "      <td>-0.570000</td>\n",
       "      <td>1.168058e+09</td>\n",
       "    </tr>\n",
       "    <tr>\n",
       "      <th>25%</th>\n",
       "      <td>2.019050e+07</td>\n",
       "      <td>-0.247500</td>\n",
       "      <td>1.168058e+09</td>\n",
       "    </tr>\n",
       "    <tr>\n",
       "      <th>50%</th>\n",
       "      <td>2.019050e+07</td>\n",
       "      <td>-0.205000</td>\n",
       "      <td>1.168058e+09</td>\n",
       "    </tr>\n",
       "    <tr>\n",
       "      <th>75%</th>\n",
       "      <td>2.019050e+07</td>\n",
       "      <td>-0.200000</td>\n",
       "      <td>1.168058e+09</td>\n",
       "    </tr>\n",
       "    <tr>\n",
       "      <th>max</th>\n",
       "      <td>2.019050e+07</td>\n",
       "      <td>-0.180000</td>\n",
       "      <td>1.168058e+09</td>\n",
       "    </tr>\n",
       "  </tbody>\n",
       "</table>\n",
       "</div>"
      ],
      "text/plain": [
       "              anldt     anlval         hjdcd\n",
       "count  1.000000e+01  10.000000  1.000000e+01\n",
       "mean   2.019050e+07  -0.276000  1.168058e+09\n",
       "std    1.490712e+00   0.151379  0.000000e+00\n",
       "min    2.019050e+07  -0.570000  1.168058e+09\n",
       "25%    2.019050e+07  -0.247500  1.168058e+09\n",
       "50%    2.019050e+07  -0.205000  1.168058e+09\n",
       "75%    2.019050e+07  -0.200000  1.168058e+09\n",
       "max    2.019050e+07  -0.180000  1.168058e+09"
      ]
     },
     "execution_count": 124,
     "metadata": {},
     "output_type": "execute_result"
    }
   ],
   "source": [
    "dright_idx['anlval'].astype(np.float64)\n",
    "dright_idx.describe()"
   ]
  },
  {
   "cell_type": "code",
   "execution_count": 68,
   "metadata": {},
   "outputs": [],
   "source": [
    "import matplotlib.pyplot as plt"
   ]
  },
  {
   "cell_type": "code",
   "execution_count": 125,
   "metadata": {},
   "outputs": [
    {
     "data": {
      "text/plain": [
       "[<matplotlib.lines.Line2D at 0x267c80d04c0>]"
      ]
     },
     "execution_count": 125,
     "metadata": {},
     "output_type": "execute_result"
    },
    {
     "data": {
      "image/png": "[encoded data removed]",
      "text/plain": [
       "<Figure size 432x288 with 1 Axes>"
      ]
     },
     "metadata": {
      "needs_background": "light"
     },
     "output_type": "display_data"
    }
   ],
   "source": [
    "plt.plot(dright_idx['anlval'],'y')"
   ]
  },
  {
   "cell_type": "code",
   "execution_count": 112,
   "metadata": {},
   "outputs": [
    {
     "data": {
      "text/plain": [
       "(array([1., 1., 0., 0., 0., 0., 0., 0., 0., 0., 0., 0., 0., 0., 0., 1., 0.,\n",
       "        0., 5., 2.]),\n",
       " array([-0.57  , -0.5505, -0.531 , -0.5115, -0.492 , -0.4725, -0.453 ,\n",
       "        -0.4335, -0.414 , -0.3945, -0.375 , -0.3555, -0.336 , -0.3165,\n",
       "        -0.297 , -0.2775, -0.258 , -0.2385, -0.219 , -0.1995, -0.18  ]),\n",
       " <a list of 20 Patch objects>)"
      ]
     },
     "execution_count": 112,
     "metadata": {},
     "output_type": "execute_result"
    },
    {
     "data": {
      "image/png": "[encoded data removed]",
      "text/plain": [
       "<Figure size 432x288 with 1 Axes>"
      ]
     },
     "metadata": {
      "needs_background": "light"
     },
     "output_type": "display_data"
    }
   ],
   "source": [
    "plt.hist(dright_idx['anlval'], bins=20)"
   ]
  },
  {
   "cell_type": "code",
   "execution_count": 113,
   "metadata": {},
   "outputs": [
    {
     "data": {
      "text/plain": [
       "(Index(['정상'], dtype='object'),\n",
       " 0    정상\n",
       " 1    정상\n",
       " 2    정상\n",
       " 3    정상\n",
       " 4    정상\n",
       " 5    정상\n",
       " 6    정상\n",
       " 7    정상\n",
       " 8    정상\n",
       " 9    정상\n",
       " Name: anlrst, dtype: object)"
      ]
     },
     "execution_count": 113,
     "metadata": {},
     "output_type": "execute_result"
    }
   ],
   "source": [
    "dright_idx['anlrst'].value_counts().index, dright_idx['anlrst']"
   ]
  },
  {
   "cell_type": "code",
   "execution_count": 114,
   "metadata": {
    "scrolled": true
   },
   "outputs": [
    {
     "name": "stderr",
     "output_type": "stream",
     "text": [
      "C:\\ProgramData\\Anaconda3\\lib\\site-packages\\matplotlib\\backends\\backend_agg.py:214: RuntimeWarning: Glyph 51221 missing from current font.\n",
      "  font.set_text(s, 0.0, flags=flags)\n",
      "C:\\ProgramData\\Anaconda3\\lib\\site-packages\\matplotlib\\backends\\backend_agg.py:214: RuntimeWarning: Glyph 49345 missing from current font.\n",
      "  font.set_text(s, 0.0, flags=flags)\n",
      "C:\\ProgramData\\Anaconda3\\lib\\site-packages\\matplotlib\\backends\\backend_agg.py:183: RuntimeWarning: Glyph 51221 missing from current font.\n",
      "  font.set_text(s, 0, flags=flags)\n",
      "C:\\ProgramData\\Anaconda3\\lib\\site-packages\\matplotlib\\backends\\backend_agg.py:183: RuntimeWarning: Glyph 49345 missing from current font.\n",
      "  font.set_text(s, 0, flags=flags)\n"
     ]
    },
    {
     "data": {
      "image/png": "[encoded data removed]",
      "text/plain": [
       "<Figure size 432x288 with 1 Axes>"
      ]
     },
     "metadata": {},
     "output_type": "display_data"
    }
   ],
   "source": [
    "plt.pie(dright_idx['anlrst'].value_counts(),labels = dright_idx['anlrst'].value_counts().index, autopct = '%2f')\n",
    "plt.show()"
   ]
  },
  {
   "cell_type": "code",
   "execution_count": 115,
   "metadata": {},
   "outputs": [
    {
     "data": {
      "text/plain": [
       "<matplotlib.axes._subplots.AxesSubplot at 0x267c8104670>"
      ]
     },
     "execution_count": 115,
     "metadata": {},
     "output_type": "execute_result"
    },
    {
     "data": {
      "image/png": "[encoded data removed]",
      "text/plain": [
       "<Figure size 432x288 with 1 Axes>"
      ]
     },
     "metadata": {
      "needs_background": "light"
     },
     "output_type": "display_data"
    }
   ],
   "source": [
    "dright_idx['anlval'].plot()"
   ]
  },
  {
   "cell_type": "markdown",
   "metadata": {},
   "source": [
    "# 네이버 POST 요청(데이터랩)"
   ]
  },
  {
   "cell_type": "code",
   "execution_count": 16,
   "metadata": {},
   "outputs": [],
   "source": [
    "url = 'https://openapi.naver.com/v1/datalab/search'\n",
    "headers = {\n",
    "    'X-Naver-Client-Id': 'AK99EURfyVEshQlsXwfh',\n",
    "    'X-Naver-Client-Secret': '8AzaOwR26v',\n",
    "    'Content-Type': 'application/json'\n",
    "}\n",
    "\n",
    "params = {\n",
    "    'startDate' :'2019-08-03',\n",
    "    'endDate':'2020-08-03',\n",
    "    'timeUnit': 'date',\n",
    "    'keywordGroups': [#list요소가 dic\n",
    "        {\n",
    "            'groupName': '코로나',\n",
    "            'keywords': ['코로나 현황', '코로나', '코로나 확산']\n",
    "        }, \n",
    "        {\n",
    "            'groupName': '마스크',\n",
    "            'keywords': ['마스크', '공적마스크', 'kf80', 'kf94']\n",
    "        }\n",
    "        \n",
    "    ]\n",
    "    \n",
    "}\n"
   ]
  },
  {
   "cell_type": "code",
   "execution_count": 17,
   "metadata": {},
   "outputs": [],
   "source": [
    "import json"
   ]
  },
  {
   "cell_type": "markdown",
   "metadata": {},
   "source": [
    " 만약 data를 xml로 만들어서 보내야할 경우\n",
    "dicttoxml라이브러리 설치 및 import하여 사용.(상세내용 문서 참조)\n",
    "혹은 구글 검색(how wo convert dict to xml in python)\n",
    "\n"
   ]
  },
  {
   "cell_type": "code",
   "execution_count": 35,
   "metadata": {},
   "outputs": [
    {
     "data": {
      "text/plain": [
       "'{\"serviceKey\": \"ArX9sgd4FI5nn9jffw2qK5jmWV%2F7VOJLySLOEr8CQejDGKJ%2BmuxAKhXHQKVgiir%2FJKLwu1xguRobsePfp%2BEy4A%3D%3D\", \"numOfRows\": 10, \"pageNo\": 1, \"hjdCd\": 1168058000, \"stDt\": 20190501, \"edDt\": 20190531, \"resultType\": \"json\"}'"
      ]
     },
     "execution_count": 35,
     "metadata": {},
     "output_type": "execute_result"
    }
   ],
   "source": [
    "data = json.dumps(params)\n",
    "data"
   ]
  },
  {
   "cell_type": "code",
   "execution_count": 30,
   "metadata": {},
   "outputs": [
    {
     "data": {
      "text/plain": [
       "<function requests.api.post(url, data=None, json=None, **kwargs)>"
      ]
     },
     "execution_count": 30,
     "metadata": {},
     "output_type": "execute_result"
    }
   ],
   "source": [
    "requests.post"
   ]
  },
  {
   "cell_type": "code",
   "execution_count": 31,
   "metadata": {},
   "outputs": [
    {
     "data": {
      "text/plain": [
       "<function requests.api.put(url, data=None, **kwargs)>"
      ]
     },
     "execution_count": 31,
     "metadata": {},
     "output_type": "execute_result"
    }
   ],
   "source": [
    "requests.put"
   ]
  },
  {
   "cell_type": "code",
   "execution_count": 34,
   "metadata": {},
   "outputs": [
    {
     "data": {
      "text/plain": [
       "<function requests.api.delete(url, **kwargs)>"
      ]
     },
     "execution_count": 34,
     "metadata": {},
     "output_type": "execute_result"
    }
   ],
   "source": [
    "requests.delete"
   ]
  },
  {
   "cell_type": "code",
   "execution_count": 21,
   "metadata": {},
   "outputs": [
    {
     "data": {
      "text/plain": [
       "<Response [200]>"
      ]
     },
     "execution_count": 21,
     "metadata": {},
     "output_type": "execute_result"
    }
   ],
   "source": [
    "resp = requests.post(url, headers=headers, data = data)\n",
    "resp"
   ]
  },
  {
   "cell_type": "code",
   "execution_count": 22,
   "metadata": {},
   "outputs": [
    {
     "data": {
      "text/plain": [
       "'{\"startDate\":\"2019-08-03\",\"endDate\":\"2020-08-03\",\"timeUnit\":\"date\",\"results\":[{\"title\":\"코로나\",\"keywords\":[\"코로나 현황\",\"코로나\",\"코로나 확산\"],\"data\":[{\"period\":\"2019-08-03\",\"ratio\":0.00491},{\"period\":\"2019-08-04\",\"ratio\":0.00478},{\"period\":\"2019-08-05\",\"ratio\":0.00555},{\"period\":\"2019-08-06\",\"ratio\":0.00482},{\"period\":\"2019-08-07\",\"ratio\":0.00493},{\"period\":\"2019-08-08\",\"ratio\":0.00483},{\"period\":\"2019-08-09\",\"ratio\":0.00482},{\"period\":\"2019-08-10\",\"ratio\":0.00528},{\"period\":\"2019-08-11\",\"ratio\":0.00481},{\"period\":\"2019-08-12\",\"ratio\":0.00486},{\"period\":\"2019-08-13\",\"ratio\":0.0053},{\"period\":\"2019-08-14\",\"ratio\":0.00523},{\"period\":\"2019-08-15\",\"ratio\":0.00557},{\"period\":\"2019-08-16\",\"ratio\":0.00473},{\"period\":\"2019-08-17\",\"ratio\":0.00502},{\"period\":\"2019-08-18\",\"ratio\":0.00529},{\"period\":\"2019-08-19\",\"ratio\":0.00494},{\"period\":\"2019-08-20\",\"ratio\":0.00513},{\"period\":\"2019-08-21\",\"ratio\":0.00458},{\"period\":\"2019-08-22\",\"ratio\":0.00472},{\"period\":\"2019-08-23\",\"ratio\":0.0044},{\"period\":\"2019-08-24\",\"ratio\":0.00454},{\"period\":\"2019-08-25\",\"ratio\":0.00435},{\"period\":\"2019-08-26\",\"ratio\":0.00459},{\"period\":\"2019-08-27\",\"ratio\":0.00449},{\"period\":\"2019-08-28\",\"ratio\":0.00411},{\"period\":\"2019-08-29\",\"ratio\":0.00374},{\"period\":\"2019-08-30\",\"ratio\":0.00442},{\"period\":\"2019-08-31\",\"ratio\":0.00424},{\"period\":\"2019-09-01\",\"ratio\":0.00429},{\"period\":\"2019-09-02\",\"ratio\":0.00459},{\"period\":\"2019-09-03\",\"ratio\":0.00414},{\"period\":\"2019-09-04\",\"ratio\":0.00422},{\"period\":\"2019-09-05\",\"ratio\":0.00423},{\"period\":\"2019-09-06\",\"ratio\":0.00395},{\"period\":\"2019-09-07\",\"ratio\":0.00357},{\"period\":\"2019-09-08\",\"ratio\":0.01882},{\"period\":\"2019-09-09\",\"ratio\":0.00504},{\"period\":\"2019-09-10\",\"ratio\":0.00418},{\"period\":\"2019-09-11\",\"ratio\":0.00388},{\"period\":\"2019-09-12\",\"ratio\":0.0038},{\"period\":\"2019-09-13\",\"ratio\":0.00448},{\"period\":\"2019-09-14\",\"ratio\":0.0091},{\"period\":\"2019-09-15\",\"ratio\":0.00445},{\"period\":\"2019-09-16\",\"ratio\":0.00486},{\"period\":\"2019-09-17\",\"ratio\":0.0046},{\"period\":\"2019-09-18\",\"ratio\":0.0052},{\"period\":\"2019-09-19\",\"ratio\":0.00519},{\"period\":\"2019-09-20\",\"ratio\":0.00631},{\"period\":\"2019-09-21\",\"ratio\":0.00478},{\"period\":\"2019-09-22\",\"ratio\":0.00424},{\"period\":\"2019-09-23\",\"ratio\":0.00453},{\"period\":\"2019-09-24\",\"ratio\":0.00412},{\"period\":\"2019-09-25\",\"ratio\":0.00401},{\"period\":\"2019-09-26\",\"ratio\":0.00382},{\"period\":\"2019-09-27\",\"ratio\":0.00458},{\"period\":\"2019-09-28\",\"ratio\":0.00429},{\"period\":\"2019-09-29\",\"ratio\":0.00429},{\"period\":\"2019-09-30\",\"ratio\":0.0044},{\"period\":\"2019-10-01\",\"ratio\":0.00393},{\"period\":\"2019-10-02\",\"ratio\":0.00394},{\"period\":\"2019-10-03\",\"ratio\":0.00476},{\"period\":\"2019-10-04\",\"ratio\":0.00466},{\"period\":\"2019-10-05\",\"ratio\":0.0044},{\"period\":\"2019-10-06\",\"ratio\":0.0039},{\"period\":\"2019-10-07\",\"ratio\":0.00445},{\"period\":\"2019-10-08\",\"ratio\":0.00534},{\"period\":\"2019-10-09\",\"ratio\":0.00436},{\"period\":\"2019-10-10\",\"ratio\":0.00428},{\"period\":\"2019-10-11\",\"ratio\":0.0043},{\"period\":\"2019-10-12\",\"ratio\":0.00391},{\"period\":\"2019-10-13\",\"ratio\":0.00364},{\"period\":\"2019-10-14\",\"ratio\":0.00432},{\"period\":\"2019-10-15\",\"ratio\":0.00414},{\"period\":\"2019-10-16\",\"ratio\":0.00411},{\"period\":\"2019-10-17\",\"ratio\":0.0038},{\"period\":\"2019-10-18\",\"ratio\":0.00442},{\"period\":\"2019-10-19\",\"ratio\":0.0042},{\"period\":\"2019-10-20\",\"ratio\":0.00404},{\"period\":\"2019-10-21\",\"ratio\":0.00444},{\"period\":\"2019-10-22\",\"ratio\":0.0041},{\"period\":\"2019-10-23\",\"ratio\":0.00408},{\"period\":\"2019-10-24\",\"ratio\":0.0046},{\"period\":\"2019-10-25\",\"ratio\":0.00458},{\"period\":\"2019-10-26\",\"ratio\":0.00426},{\"period\":\"2019-10-27\",\"ratio\":0.00375},{\"period\":\"2019-10-28\",\"ratio\":0.0038},{\"period\":\"2019-10-29\",\"ratio\":0.00394},{\"period\":\"2019-10-30\",\"ratio\":0.00412},{\"period\":\"2019-10-31\",\"ratio\":0.00377},{\"period\":\"2019-11-01\",\"ratio\":0.00359},{\"period\":\"2019-11-02\",\"ratio\":0.00361},{\"period\":\"2019-11-03\",\"ratio\":0.00417},{\"period\":\"2019-11-04\",\"ratio\":0.00407},{\"period\":\"2019-11-05\",\"ratio\":0.00392},{\"period\":\"2019-11-06\",\"ratio\":0.00415},{\"period\":\"2019-11-07\",\"ratio\":0.00392},{\"period\":\"2019-11-08\",\"ratio\":0.00349},{\"period\":\"2019-11-09\",\"ratio\":0.0036},{\"period\":\"2019-11-10\",\"ratio\":0.00359},{\"period\":\"2019-11-11\",\"ratio\":0.00394},{\"period\":\"2019-11-12\",\"ratio\":0.00418},{\"period\":\"2019-11-13\",\"ratio\":0.00379},{\"period\":\"2019-11-14\",\"ratio\":0.00385},{\"period\":\"2019-11-15\",\"ratio\":0.00467},{\"period\":\"2019-11-16\",\"ratio\":0.00462},{\"period\":\"2019-11-17\",\"ratio\":0.00434},{\"period\":\"2019-11-18\",\"ratio\":0.00427},{\"period\":\"2019-11-19\",\"ratio\":0.00368},{\"period\":\"2019-11-20\",\"ratio\":0.00412},{\"period\":\"2019-11-21\",\"ratio\":0.00469},{\"period\":\"2019-11-22\",\"ratio\":0.0041},{\"period\":\"2019-11-23\",\"ratio\":0.0043},{\"period\":\"2019-11-24\",\"ratio\":0.00338},{\"period\":\"2019-11-25\",\"ratio\":0.00363},{\"period\":\"2019-11-26\",\"ratio\":0.00393},{\"period\":\"2019-11-27\",\"ratio\":0.00334},{\"period\":\"2019-11-28\",\"ratio\":0.00373},{\"period\":\"2019-11-29\",\"ratio\":0.00344},{\"period\":\"2019-11-30\",\"ratio\":0.00337},{\"period\":\"2019-12-01\",\"ratio\":0.00363},{\"period\":\"2019-12-02\",\"ratio\":0.00386},{\"period\":\"2019-12-03\",\"ratio\":0.00358},{\"period\":\"2019-12-04\",\"ratio\":0.00348},{\"period\":\"2019-12-05\",\"ratio\":0.00386},{\"period\":\"2019-12-06\",\"ratio\":0.0039},{\"period\":\"2019-12-07\",\"ratio\":0.00391},{\"period\":\"2019-12-08\",\"ratio\":0.00369},{\"period\":\"2019-12-09\",\"ratio\":0.00434},{\"period\":\"2019-12-10\",\"ratio\":0.00438},{\"period\":\"2019-12-11\",\"ratio\":0.00395},{\"period\":\"2019-12-12\",\"ratio\":0.00368},{\"period\":\"2019-12-13\",\"ratio\":0.00366},{\"period\":\"2019-12-14\",\"ratio\":0.00361},{\"period\":\"2019-12-15\",\"ratio\":0.00352},{\"period\":\"2019-12-16\",\"ratio\":0.00367},{\"period\":\"2019-12-17\",\"ratio\":0.00371},{\"period\":\"2019-12-18\",\"ratio\":0.00357},{\"period\":\"2019-12-19\",\"ratio\":0.00293},{\"period\":\"2019-12-20\",\"ratio\":0.00376},{\"period\":\"2019-12-21\",\"ratio\":0.00368},{\"period\":\"2019-12-22\",\"ratio\":0.0036},{\"period\":\"2019-12-23\",\"ratio\":0.00346},{\"period\":\"2019-12-24\",\"ratio\":0.00393},{\"period\":\"2019-12-25\",\"ratio\":0.00355},{\"period\":\"2019-12-26\",\"ratio\":0.00408},{\"period\":\"2019-12-27\",\"ratio\":0.00377},{\"period\":\"2019-12-28\",\"ratio\":0.00361},{\"period\":\"2019-12-29\",\"ratio\":0.00312},{\"period\":\"2019-12-30\",\"ratio\":0.00423},{\"period\":\"2019-12-31\",\"ratio\":0.00439},{\"period\":\"2020-01-01\",\"ratio\":0.00349},{\"period\":\"2020-01-02\",\"ratio\":0.00419},{\"period\":\"2020-01-03\",\"ratio\":0.00446},{\"period\":\"2020-01-04\",\"ratio\":0.00491},{\"period\":\"2020-01-05\",\"ratio\":0.00362},{\"period\":\"2020-01-06\",\"ratio\":0.00402},{\"period\":\"2020-01-07\",\"ratio\":0.0041},{\"period\":\"2020-01-08\",\"ratio\":0.00383},{\"period\":\"2020-01-09\",\"ratio\":0.02597},{\"period\":\"2020-01-10\",\"ratio\":0.01972},{\"period\":\"2020-01-11\",\"ratio\":0.00797},{\"period\":\"2020-01-12\",\"ratio\":0.00476},{\"period\":\"2020-01-13\",\"ratio\":0.00492},{\"period\":\"2020-01-14\",\"ratio\":0.00533},{\"period\":\"2020-01-15\",\"ratio\":0.00485},{\"period\":\"2020-01-16\",\"ratio\":0.00665},{\"period\":\"2020-01-17\",\"ratio\":0.00744},{\"period\":\"2020-01-18\",\"ratio\":0.00487},{\"period\":\"2020-01-19\",\"ratio\":0.00498},{\"period\":\"2020-01-20\",\"ratio\":0.03431},{\"period\":\"2020-01-21\",\"ratio\":0.0685},{\"period\":\"2020-01-22\",\"ratio\":0.10825},{\"period\":\"2020-01-23\",\"ratio\":0.47473},{\"period\":\"2020-01-24\",\"ratio\":0.74317},{\"period\":\"2020-01-25\",\"ratio\":0.66239},{\"period\":\"2020-01-26\",\"ratio\":1.0657},{\"period\":\"2020-01-27\",\"ratio\":1.04661},{\"period\":\"2020-01-28\",\"ratio\":1.47246},{\"period\":\"2020-01-29\",\"ratio\":1.39059},{\"period\":\"2020-01-30\",\"ratio\":1.48901},{\"period\":\"2020-01-31\",\"ratio\":2.27297},{\"period\":\"2020-02-01\",\"ratio\":4.80943},{\"period\":\"2020-02-02\",\"ratio\":2.64469},{\"period\":\"2020-02-03\",\"ratio\":2.721},{\"period\":\"2020-02-04\",\"ratio\":2.10798},{\"period\":\"2020-02-05\",\"ratio\":1.92082},{\"period\":\"2020-02-06\",\"ratio\":9.08363},{\"period\":\"2020-02-07\",\"ratio\":5.06647},{\"period\":\"2020-02-08\",\"ratio\":1.74092},{\"period\":\"2020-02-09\",\"ratio\":1.55877},{\"period\":\"2020-02-10\",\"ratio\":1.86237},{\"period\":\"2020-02-11\",\"ratio\":1.45402},{\"period\":\"2020-02-12\",\"ratio\":1.54592},{\"period\":\"2020-02-13\",\"ratio\":1.89854},{\"period\":\"2020-02-14\",\"ratio\":1.43508},{\"period\":\"2020-02-15\",\"ratio\":1.11176},{\"period\":\"2020-02-16\",\"ratio\":1.14245},{\"period\":\"2020-02-17\",\"ratio\":1.34057},{\"period\":\"2020-02-18\",\"ratio\":2.39101},{\"period\":\"2020-02-19\",\"ratio\":8.777},{\"period\":\"2020-02-20\",\"ratio\":20.9437},{\"period\":\"2020-02-21\",\"ratio\":32.39175},{\"period\":\"2020-02-22\",\"ratio\":36.55637},{\"period\":\"2020-02-23\",\"ratio\":36.3611},{\"period\":\"2020-02-24\",\"ratio\":100},{\"period\":\"2020-02-25\",\"ratio\":63.16662},{\"period\":\"2020-02-26\",\"ratio\":47.21347},{\"period\":\"2020-02-27\",\"ratio\":44.96144},{\"period\":\"2020-02-28\",\"ratio\":44.94807},{\"period\":\"2020-02-29\",\"ratio\":37.57934},{\"period\":\"2020-03-01\",\"ratio\":32.32516},{\"period\":\"2020-03-02\",\"ratio\":45.35829},{\"period\":\"2020-03-03\",\"ratio\":34.03839},{\"period\":\"2020-03-04\",\"ratio\":30.63139},{\"period\":\"2020-03-05\",\"ratio\":26.91691},{\"period\":\"2020-03-06\",\"ratio\":25.77268},{\"period\":\"2020-03-07\",\"ratio\":18.70457},{\"period\":\"2020-03-08\",\"ratio\":18.12727},{\"period\":\"2020-03-09\",\"ratio\":23.82084},{\"period\":\"2020-03-10\",\"ratio\":24.84047},{\"period\":\"2020-03-11\",\"ratio\":22.48454},{\"period\":\"2020-03-12\",\"ratio\":20.70731},{\"period\":\"2020-03-13\",\"ratio\":19.31045},{\"period\":\"2020-03-14\",\"ratio\":16.29201},{\"period\":\"2020-03-15\",\"ratio\":13.77914},{\"period\":\"2020-03-16\",\"ratio\":17.95756},{\"period\":\"2020-03-17\",\"ratio\":16.45204},{\"period\":\"2020-03-18\",\"ratio\":16.12963},{\"period\":\"2020-03-19\",\"ratio\":14.22104},{\"period\":\"2020-03-20\",\"ratio\":13.43713},{\"period\":\"2020-03-21\",\"ratio\":11.38915},{\"period\":\"2020-03-22\",\"ratio\":11.40606},{\"period\":\"2020-03-23\",\"ratio\":13.36715},{\"period\":\"2020-03-24\",\"ratio\":13.08735},{\"period\":\"2020-03-25\",\"ratio\":12.38757},{\"period\":\"2020-03-26\",\"ratio\":12.4115},{\"period\":\"2020-03-27\",\"ratio\":12.29545},{\"period\":\"2020-03-28\",\"ratio\":11.30621},{\"period\":\"2020-03-29\",\"ratio\":10.32145},{\"period\":\"2020-03-30\",\"ratio\":11.2656},{\"period\":\"2020-03-31\",\"ratio\":10.68072},{\"period\":\"2020-04-01\",\"ratio\":9.86325},{\"period\":\"2020-04-02\",\"ratio\":11.3001},{\"period\":\"2020-04-03\",\"ratio\":10.06859},{\"period\":\"2020-04-04\",\"ratio\":7.94634},{\"period\":\"2020-04-05\",\"ratio\":7.64887},{\"period\":\"2020-04-06\",\"ratio\":9.81627},{\"period\":\"2020-04-07\",\"ratio\":10.42694},{\"period\":\"2020-04-08\",\"ratio\":9.82135},{\"period\":\"2020-04-09\",\"ratio\":9.35066},{\"period\":\"2020-04-10\",\"ratio\":10.8695},{\"period\":\"2020-04-11\",\"ratio\":9.74334},{\"period\":\"2020-04-12\",\"ratio\":8.27626},{\"period\":\"2020-04-13\",\"ratio\":9.62284},{\"period\":\"2020-04-14\",\"ratio\":8.97051},{\"period\":\"2020-04-15\",\"ratio\":9.17106},{\"period\":\"2020-04-16\",\"ratio\":10.69904},{\"period\":\"2020-04-17\",\"ratio\":8.64399},{\"period\":\"2020-04-18\",\"ratio\":6.66324},{\"period\":\"2020-04-19\",\"ratio\":7.46748},{\"period\":\"2020-04-20\",\"ratio\":9.05757},{\"period\":\"2020-04-21\",\"ratio\":7.39917},{\"period\":\"2020-04-22\",\"ratio\":7.30253},{\"period\":\"2020-04-23\",\"ratio\":6.78451},{\"period\":\"2020-04-24\",\"ratio\":6.86142},{\"period\":\"2020-04-25\",\"ratio\":6.02052},{\"period\":\"2020-04-26\",\"ratio\":5.61115},{\"period\":\"2020-04-27\",\"ratio\":6.35029},{\"period\":\"2020-04-28\",\"ratio\":5.80023},{\"period\":\"2020-04-29\",\"ratio\":5.60686},{\"period\":\"2020-04-30\",\"ratio\":4.92632},{\"period\":\"2020-05-01\",\"ratio\":5.39129},{\"period\":\"2020-05-02\",\"ratio\":5.25785},{\"period\":\"2020-05-03\",\"ratio\":5.22394},{\"period\":\"2020-05-04\",\"ratio\":5.66737},{\"period\":\"2020-05-05\",\"ratio\":4.45107},{\"period\":\"2020-05-06\",\"ratio\":5.50977},{\"period\":\"2020-05-07\",\"ratio\":5.86855},{\"period\":\"2020-05-08\",\"ratio\":9.99356},{\"period\":\"2020-05-09\",\"ratio\":11.02552},{\"period\":\"2020-05-10\",\"ratio\":11.25234},{\"period\":\"2020-05-11\",\"ratio\":13.34574},{\"period\":\"2020-05-12\",\"ratio\":10.74454},{\"period\":\"2020-05-13\",\"ratio\":10.1964},{\"period\":\"2020-05-14\",\"ratio\":8.71367},{\"period\":\"2020-05-15\",\"ratio\":6.7517},{\"period\":\"2020-05-16\",\"ratio\":4.87536},{\"period\":\"2020-05-17\",\"ratio\":4.3741},{\"period\":\"2020-05-18\",\"ratio\":5.41866},{\"period\":\"2020-05-19\",\"ratio\":4.99245},{\"period\":\"2020-05-20\",\"ratio\":6.16227},{\"period\":\"2020-05-21\",\"ratio\":5.67717},{\"period\":\"2020-05-22\",\"ratio\":5.18047},{\"period\":\"2020-05-23\",\"ratio\":4.12695},{\"period\":\"2020-05-24\",\"ratio\":3.84723},{\"period\":\"2020-05-25\",\"ratio\":4.77291},{\"period\":\"2020-05-26\",\"ratio\":4.57116},{\"period\":\"2020-05-27\",\"ratio\":6.51892},{\"period\":\"2020-05-28\",\"ratio\":9.84549},{\"period\":\"2020-05-29\",\"ratio\":7.77326},{\"period\":\"2020-05-30\",\"ratio\":5.05249},{\"period\":\"2020-05-31\",\"ratio\":4.75139},{\"period\":\"2020-06-01\",\"ratio\":5.42549},{\"period\":\"2020-06-02\",\"ratio\":4.85866},{\"period\":\"2020-06-03\",\"ratio\":4.94562},{\"period\":\"2020-06-04\",\"ratio\":4.58441},{\"period\":\"2020-06-05\",\"ratio\":4.34604},{\"period\":\"2020-06-06\",\"ratio\":3.98471},{\"period\":\"2020-06-07\",\"ratio\":4.18944},{\"period\":\"2020-06-08\",\"ratio\":5.14001},{\"period\":\"2020-06-09\",\"ratio\":5.01075},{\"period\":\"2020-06-10\",\"ratio\":4.42848},{\"period\":\"2020-06-11\",\"ratio\":4.4566},{\"period\":\"2020-06-12\",\"ratio\":4.84501},{\"period\":\"2020-06-13\",\"ratio\":3.50804},{\"period\":\"2020-06-14\",\"ratio\":3.37419},{\"period\":\"2020-06-15\",\"ratio\":4.5488},{\"period\":\"2020-06-16\",\"ratio\":4.03731},{\"period\":\"2020-06-17\",\"ratio\":4.04403},{\"period\":\"2020-06-18\",\"ratio\":3.91492},{\"period\":\"2020-06-19\",\"ratio\":3.78928},{\"period\":\"2020-06-20\",\"ratio\":3.69936},{\"period\":\"2020-06-21\",\"ratio\":3.62073},{\"period\":\"2020-06-22\",\"ratio\":4.55776},{\"period\":\"2020-06-23\",\"ratio\":4.43082},{\"period\":\"2020-06-24\",\"ratio\":3.74677},{\"period\":\"2020-06-25\",\"ratio\":3.62614},{\"period\":\"2020-06-26\",\"ratio\":3.55123},{\"period\":\"2020-06-27\",\"ratio\":3.24842},{\"period\":\"2020-06-28\",\"ratio\":3.58438},{\"period\":\"2020-06-29\",\"ratio\":4.27253},{\"period\":\"2020-06-30\",\"ratio\":3.46832},{\"period\":\"2020-07-01\",\"ratio\":3.80784},{\"period\":\"2020-07-02\",\"ratio\":4.06999},{\"period\":\"2020-07-03\",\"ratio\":4.17672},{\"period\":\"2020-07-04\",\"ratio\":3.6154},{\"period\":\"2020-07-05\",\"ratio\":5.10531},{\"period\":\"2020-07-06\",\"ratio\":4.84038},{\"period\":\"2020-07-07\",\"ratio\":3.59177},{\"period\":\"2020-07-08\",\"ratio\":3.63308},{\"period\":\"2020-07-09\",\"ratio\":3.40046},{\"period\":\"2020-07-10\",\"ratio\":2.71591},{\"period\":\"2020-07-11\",\"ratio\":2.3985},{\"period\":\"2020-07-12\",\"ratio\":2.51574},{\"period\":\"2020-07-13\",\"ratio\":2.93417},{\"period\":\"2020-07-14\",\"ratio\":2.85844},{\"period\":\"2020-07-15\",\"ratio\":2.5983},{\"period\":\"2020-07-16\",\"ratio\":2.68244},{\"period\":\"2020-07-17\",\"ratio\":2.73557},{\"period\":\"2020-07-18\",\"ratio\":2.22417},{\"period\":\"2020-07-19\",\"ratio\":2.14323},{\"period\":\"2020-07-20\",\"ratio\":2.87162},{\"period\":\"2020-07-21\",\"ratio\":2.70644},{\"period\":\"2020-07-22\",\"ratio\":2.77418},{\"period\":\"2020-07-23\",\"ratio\":2.62633},{\"period\":\"2020-07-24\",\"ratio\":2.6266},{\"period\":\"2020-07-25\",\"ratio\":2.92282},{\"period\":\"2020-07-26\",\"ratio\":2.42378},{\"period\":\"2020-07-27\",\"ratio\":2.36707},{\"period\":\"2020-07-28\",\"ratio\":2.2591},{\"period\":\"2020-07-29\",\"ratio\":2.21554},{\"period\":\"2020-07-30\",\"ratio\":2.35455},{\"period\":\"2020-07-31\",\"ratio\":2.18707},{\"period\":\"2020-08-01\",\"ratio\":1.86059},{\"period\":\"2020-08-02\",\"ratio\":2.00992}]},{\"title\":\"마스크\",\"keywords\":[\"마스크\",\"공적마스크\",\"kf80\",\"kf94\"],\"data\":[{\"period\":\"2019-08-03\",\"ratio\":0.00883},{\"period\":\"2019-08-04\",\"ratio\":0.00956},{\"period\":\"2019-08-05\",\"ratio\":0.01132},{\"period\":\"2019-08-06\",\"ratio\":0.01141},{\"period\":\"2019-08-07\",\"ratio\":0.01129},{\"period\":\"2019-08-08\",\"ratio\":0.01144},{\"period\":\"2019-08-09\",\"ratio\":0.01091},{\"period\":\"2019-08-10\",\"ratio\":0.01015},{\"period\":\"2019-08-11\",\"ratio\":0.01118},{\"period\":\"2019-08-12\",\"ratio\":0.01319},{\"period\":\"2019-08-13\",\"ratio\":0.35411},{\"period\":\"2019-08-14\",\"ratio\":0.01365},{\"period\":\"2019-08-15\",\"ratio\":0.01053},{\"period\":\"2019-08-16\",\"ratio\":0.0113},{\"period\":\"2019-08-17\",\"ratio\":0.01016},{\"period\":\"2019-08-18\",\"ratio\":0.01209},{\"period\":\"2019-08-19\",\"ratio\":0.01231},{\"period\":\"2019-08-20\",\"ratio\":0.01232},{\"period\":\"2019-08-21\",\"ratio\":0.01147},{\"period\":\"2019-08-22\",\"ratio\":0.01303},{\"period\":\"2019-08-23\",\"ratio\":0.0122},{\"period\":\"2019-08-24\",\"ratio\":0.0117},{\"period\":\"2019-08-25\",\"ratio\":0.0122},{\"period\":\"2019-08-26\",\"ratio\":0.01356},{\"period\":\"2019-08-27\",\"ratio\":0.01293},{\"period\":\"2019-08-28\",\"ratio\":0.01422},{\"period\":\"2019-08-29\",\"ratio\":0.01344},{\"period\":\"2019-08-30\",\"ratio\":0.01215},{\"period\":\"2019-08-31\",\"ratio\":0.01176},{\"period\":\"2019-09-01\",\"ratio\":0.01486},{\"period\":\"2019-09-02\",\"ratio\":0.01553},{\"period\":\"2019-09-03\",\"ratio\":0.01691},{\"period\":\"2019-09-04\",\"ratio\":0.01513},{\"period\":\"2019-09-05\",\"ratio\":0.0151},{\"period\":\"2019-09-06\",\"ratio\":0.0131},{\"period\":\"2019-09-07\",\"ratio\":0.01055},{\"period\":\"2019-09-08\",\"ratio\":0.01258},{\"period\":\"2019-09-09\",\"ratio\":0.0178},{\"period\":\"2019-09-10\",\"ratio\":0.01451},{\"period\":\"2019-09-11\",\"ratio\":0.01092},{\"period\":\"2019-09-12\",\"ratio\":0.00897},{\"period\":\"2019-09-13\",\"ratio\":0.00848},{\"period\":\"2019-09-14\",\"ratio\":0.01023},{\"period\":\"2019-09-15\",\"ratio\":0.01309},{\"period\":\"2019-09-16\",\"ratio\":0.01804},{\"period\":\"2019-09-17\",\"ratio\":0.01757},{\"period\":\"2019-09-18\",\"ratio\":0.01909},{\"period\":\"2019-09-19\",\"ratio\":0.01939},{\"period\":\"2019-09-20\",\"ratio\":0.0168},{\"period\":\"2019-09-21\",\"ratio\":0.01462},{\"period\":\"2019-09-22\",\"ratio\":0.01473},{\"period\":\"2019-09-23\",\"ratio\":0.01931},{\"period\":\"2019-09-24\",\"ratio\":0.02053},{\"period\":\"2019-09-25\",\"ratio\":0.0183},{\"period\":\"2019-09-26\",\"ratio\":0.01777},{\"period\":\"2019-09-27\",\"ratio\":0.01494},{\"period\":\"2019-09-28\",\"ratio\":0.01274},{\"period\":\"2019-09-29\",\"ratio\":0.01355},{\"period\":\"2019-09-30\",\"ratio\":0.02087},{\"period\":\"2019-10-01\",\"ratio\":0.02297},{\"period\":\"2019-10-02\",\"ratio\":0.01801},{\"period\":\"2019-10-03\",\"ratio\":0.01429},{\"period\":\"2019-10-04\",\"ratio\":0.01708},{\"period\":\"2019-10-05\",\"ratio\":0.02099},{\"period\":\"2019-10-06\",\"ratio\":0.01725},{\"period\":\"2019-10-07\",\"ratio\":0.02142},{\"period\":\"2019-10-08\",\"ratio\":0.02134},{\"period\":\"2019-10-09\",\"ratio\":0.0199},{\"period\":\"2019-10-10\",\"ratio\":0.02362},{\"period\":\"2019-10-11\",\"ratio\":0.02038},{\"period\":\"2019-10-12\",\"ratio\":0.29307},{\"period\":\"2019-10-13\",\"ratio\":0.02319},{\"period\":\"2019-10-14\",\"ratio\":0.02568},{\"period\":\"2019-10-15\",\"ratio\":0.02704},{\"period\":\"2019-10-16\",\"ratio\":0.02833},{\"period\":\"2019-10-17\",\"ratio\":0.02616},{\"period\":\"2019-10-18\",\"ratio\":0.02244},{\"period\":\"2019-10-19\",\"ratio\":0.02049},{\"period\":\"2019-10-20\",\"ratio\":0.02624},{\"period\":\"2019-10-21\",\"ratio\":0.03779},{\"period\":\"2019-10-22\",\"ratio\":0.0311},{\"period\":\"2019-10-23\",\"ratio\":0.02599},{\"period\":\"2019-10-24\",\"ratio\":0.03121},{\"period\":\"2019-10-25\",\"ratio\":0.02304},{\"period\":\"2019-10-26\",\"ratio\":0.01958},{\"period\":\"2019-10-27\",\"ratio\":0.02208},{\"period\":\"2019-10-28\",\"ratio\":0.03126},{\"period\":\"2019-10-29\",\"ratio\":0.04537},{\"period\":\"2019-10-30\",\"ratio\":0.03261},{\"period\":\"2019-10-31\",\"ratio\":0.03523},{\"period\":\"2019-11-01\",\"ratio\":0.05443},{\"period\":\"2019-11-02\",\"ratio\":0.03044},{\"period\":\"2019-11-03\",\"ratio\":0.03109},{\"period\":\"2019-11-04\",\"ratio\":0.0309},{\"period\":\"2019-11-05\",\"ratio\":0.03142},{\"period\":\"2019-11-06\",\"ratio\":0.03423},{\"period\":\"2019-11-07\",\"ratio\":0.03106},{\"period\":\"2019-11-08\",\"ratio\":0.03105},{\"period\":\"2019-11-09\",\"ratio\":0.0242},{\"period\":\"2019-11-10\",\"ratio\":0.02613},{\"period\":\"2019-11-11\",\"ratio\":0.03168},{\"period\":\"2019-11-12\",\"ratio\":0.03353},{\"period\":\"2019-11-13\",\"ratio\":0.03271},{\"period\":\"2019-11-14\",\"ratio\":0.0416},{\"period\":\"2019-11-15\",\"ratio\":0.03321},{\"period\":\"2019-11-16\",\"ratio\":0.02456},{\"period\":\"2019-11-17\",\"ratio\":0.02721},{\"period\":\"2019-11-18\",\"ratio\":0.04386},{\"period\":\"2019-11-19\",\"ratio\":0.04597},{\"period\":\"2019-11-20\",\"ratio\":0.04382},{\"period\":\"2019-11-21\",\"ratio\":0.03838},{\"period\":\"2019-11-22\",\"ratio\":0.02834},{\"period\":\"2019-11-23\",\"ratio\":0.02136},{\"period\":\"2019-11-24\",\"ratio\":0.02223},{\"period\":\"2019-11-25\",\"ratio\":0.03361},{\"period\":\"2019-11-26\",\"ratio\":0.03036},{\"period\":\"2019-11-27\",\"ratio\":0.03028},{\"period\":\"2019-11-28\",\"ratio\":0.03014},{\"period\":\"2019-11-29\",\"ratio\":0.02824},{\"period\":\"2019-11-30\",\"ratio\":0.02422},{\"period\":\"2019-12-01\",\"ratio\":0.03624},{\"period\":\"2019-12-02\",\"ratio\":0.04731},{\"period\":\"2019-12-03\",\"ratio\":0.04868},{\"period\":\"2019-12-04\",\"ratio\":0.04123},{\"period\":\"2019-12-05\",\"ratio\":0.04873},{\"period\":\"2019-12-06\",\"ratio\":0.04639},{\"period\":\"2019-12-07\",\"ratio\":0.03674},{\"period\":\"2019-12-08\",\"ratio\":0.04093},{\"period\":\"2019-12-09\",\"ratio\":0.05669},{\"period\":\"2019-12-10\",\"ratio\":0.10899},{\"period\":\"2019-12-11\",\"ratio\":0.10876},{\"period\":\"2019-12-12\",\"ratio\":0.04894},{\"period\":\"2019-12-13\",\"ratio\":0.03699},{\"period\":\"2019-12-14\",\"ratio\":0.03213},{\"period\":\"2019-12-15\",\"ratio\":0.03096},{\"period\":\"2019-12-16\",\"ratio\":0.03316},{\"period\":\"2019-12-17\",\"ratio\":0.03243},{\"period\":\"2019-12-18\",\"ratio\":0.03049},{\"period\":\"2019-12-19\",\"ratio\":0.03047},{\"period\":\"2019-12-20\",\"ratio\":0.02774},{\"period\":\"2019-12-21\",\"ratio\":0.02473},{\"period\":\"2019-12-22\",\"ratio\":0.02813},{\"period\":\"2019-12-23\",\"ratio\":0.03393},{\"period\":\"2019-12-24\",\"ratio\":0.03047},{\"period\":\"2019-12-25\",\"ratio\":0.02998},{\"period\":\"2019-12-26\",\"ratio\":0.03861},{\"period\":\"2019-12-27\",\"ratio\":0.03638},{\"period\":\"2019-12-28\",\"ratio\":0.0281},{\"period\":\"2019-12-29\",\"ratio\":0.02586},{\"period\":\"2019-12-30\",\"ratio\":0.02908},{\"period\":\"2019-12-31\",\"ratio\":0.02833},{\"period\":\"2020-01-01\",\"ratio\":0.0281},{\"period\":\"2020-01-02\",\"ratio\":0.03723},{\"period\":\"2020-01-03\",\"ratio\":0.04174},{\"period\":\"2020-01-04\",\"ratio\":0.03436},{\"period\":\"2020-01-05\",\"ratio\":0.03094},{\"period\":\"2020-01-06\",\"ratio\":0.03653},{\"period\":\"2020-01-07\",\"ratio\":0.0322},{\"period\":\"2020-01-08\",\"ratio\":0.03355},{\"period\":\"2020-01-09\",\"ratio\":0.03419},{\"period\":\"2020-01-10\",\"ratio\":0.03431},{\"period\":\"2020-01-11\",\"ratio\":0.03162},{\"period\":\"2020-01-12\",\"ratio\":0.02978},{\"period\":\"2020-01-13\",\"ratio\":0.03834},{\"period\":\"2020-01-14\",\"ratio\":0.03662},{\"period\":\"2020-01-15\",\"ratio\":0.03411},{\"period\":\"2020-01-16\",\"ratio\":0.03331},{\"period\":\"2020-01-17\",\"ratio\":0.02927},{\"period\":\"2020-01-18\",\"ratio\":0.02729},{\"period\":\"2020-01-19\",\"ratio\":0.03019},{\"period\":\"2020-01-20\",\"ratio\":0.04842},{\"period\":\"2020-01-21\",\"ratio\":0.07089},{\"period\":\"2020-01-22\",\"ratio\":0.09982},{\"period\":\"2020-01-23\",\"ratio\":0.13981},{\"period\":\"2020-01-24\",\"ratio\":0.14402},{\"period\":\"2020-01-25\",\"ratio\":0.33449},{\"period\":\"2020-01-26\",\"ratio\":0.69948},{\"period\":\"2020-01-27\",\"ratio\":1.98871},{\"period\":\"2020-01-28\",\"ratio\":5.12496},{\"period\":\"2020-01-29\",\"ratio\":5.31248},{\"period\":\"2020-01-30\",\"ratio\":5.70167},{\"period\":\"2020-01-31\",\"ratio\":7.87448},{\"period\":\"2020-02-01\",\"ratio\":5.36085},{\"period\":\"2020-02-02\",\"ratio\":5.20513},{\"period\":\"2020-02-03\",\"ratio\":5.91548},{\"period\":\"2020-02-04\",\"ratio\":4.54974},{\"period\":\"2020-02-05\",\"ratio\":4.7313},{\"period\":\"2020-02-06\",\"ratio\":4.71163},{\"period\":\"2020-02-07\",\"ratio\":4.45558},{\"period\":\"2020-02-08\",\"ratio\":3.60432},{\"period\":\"2020-02-09\",\"ratio\":2.75406},{\"period\":\"2020-02-10\",\"ratio\":3.08534},{\"period\":\"2020-02-11\",\"ratio\":2.3564},{\"period\":\"2020-02-12\",\"ratio\":1.85883},{\"period\":\"2020-02-13\",\"ratio\":1.63694},{\"period\":\"2020-02-14\",\"ratio\":1.08134},{\"period\":\"2020-02-15\",\"ratio\":0.80943},{\"period\":\"2020-02-16\",\"ratio\":0.75251},{\"period\":\"2020-02-17\",\"ratio\":1.20414},{\"period\":\"2020-02-18\",\"ratio\":1.63608},{\"period\":\"2020-02-19\",\"ratio\":4.49367},{\"period\":\"2020-02-20\",\"ratio\":7.23217},{\"period\":\"2020-02-21\",\"ratio\":10.66224},{\"period\":\"2020-02-22\",\"ratio\":11.28722},{\"period\":\"2020-02-23\",\"ratio\":12.24383},{\"period\":\"2020-02-24\",\"ratio\":19.25753},{\"period\":\"2020-02-25\",\"ratio\":18.42411},{\"period\":\"2020-02-26\",\"ratio\":15.36875},{\"period\":\"2020-02-27\",\"ratio\":14.13358},{\"period\":\"2020-02-28\",\"ratio\":15.14899},{\"period\":\"2020-02-29\",\"ratio\":12.61839},{\"period\":\"2020-03-01\",\"ratio\":10.84213},{\"period\":\"2020-03-02\",\"ratio\":19.17857},{\"period\":\"2020-03-03\",\"ratio\":14.79052},{\"period\":\"2020-03-04\",\"ratio\":11.57039},{\"period\":\"2020-03-05\",\"ratio\":12.31984},{\"period\":\"2020-03-06\",\"ratio\":10.21767},{\"period\":\"2020-03-07\",\"ratio\":7.21352},{\"period\":\"2020-03-08\",\"ratio\":5.82881},{\"period\":\"2020-03-09\",\"ratio\":6.80089},{\"period\":\"2020-03-10\",\"ratio\":5.69839},{\"period\":\"2020-03-11\",\"ratio\":7.48965},{\"period\":\"2020-03-12\",\"ratio\":8.37074},{\"period\":\"2020-03-13\",\"ratio\":52.6507},{\"period\":\"2020-03-14\",\"ratio\":68.59765},{\"period\":\"2020-03-15\",\"ratio\":34.91047},{\"period\":\"2020-03-16\",\"ratio\":43.49721},{\"period\":\"2020-03-17\",\"ratio\":35.97676},{\"period\":\"2020-03-18\",\"ratio\":30.88751},{\"period\":\"2020-03-19\",\"ratio\":28.19022},{\"period\":\"2020-03-20\",\"ratio\":27.64342},{\"period\":\"2020-03-21\",\"ratio\":35.1109},{\"period\":\"2020-03-22\",\"ratio\":18.86169},{\"period\":\"2020-03-23\",\"ratio\":23.56759},{\"period\":\"2020-03-24\",\"ratio\":21.0588},{\"period\":\"2020-03-25\",\"ratio\":18.78283},{\"period\":\"2020-03-26\",\"ratio\":16.67093},{\"period\":\"2020-03-27\",\"ratio\":14.81531},{\"period\":\"2020-03-28\",\"ratio\":25.23525},{\"period\":\"2020-03-29\",\"ratio\":15.03776},{\"period\":\"2020-03-30\",\"ratio\":14.60544},{\"period\":\"2020-03-31\",\"ratio\":11.90491},{\"period\":\"2020-04-01\",\"ratio\":9.21294},{\"period\":\"2020-04-02\",\"ratio\":9.68749},{\"period\":\"2020-04-03\",\"ratio\":8.42252},{\"period\":\"2020-04-04\",\"ratio\":13.00672},{\"period\":\"2020-04-05\",\"ratio\":8.23575},{\"period\":\"2020-04-06\",\"ratio\":8.56761},{\"period\":\"2020-04-07\",\"ratio\":6.28444},{\"period\":\"2020-04-08\",\"ratio\":5.46564},{\"period\":\"2020-04-09\",\"ratio\":4.60123},{\"period\":\"2020-04-10\",\"ratio\":2.78044},{\"period\":\"2020-04-11\",\"ratio\":4.42303},{\"period\":\"2020-04-12\",\"ratio\":4.81656},{\"period\":\"2020-04-13\",\"ratio\":4.22298},{\"period\":\"2020-04-14\",\"ratio\":3.11347},{\"period\":\"2020-04-15\",\"ratio\":3.51426},{\"period\":\"2020-04-16\",\"ratio\":1.72288},{\"period\":\"2020-04-17\",\"ratio\":1.77637},{\"period\":\"2020-04-18\",\"ratio\":2.76962},{\"period\":\"2020-04-19\",\"ratio\":2.09475},{\"period\":\"2020-04-20\",\"ratio\":2.27152},{\"period\":\"2020-04-21\",\"ratio\":2.02986},{\"period\":\"2020-04-22\",\"ratio\":1.80838},{\"period\":\"2020-04-23\",\"ratio\":1.7512},{\"period\":\"2020-04-24\",\"ratio\":2.4358},{\"period\":\"2020-04-25\",\"ratio\":2.9294},{\"period\":\"2020-04-26\",\"ratio\":2.17973},{\"period\":\"2020-04-27\",\"ratio\":5.03502},{\"period\":\"2020-04-28\",\"ratio\":2.05537},{\"period\":\"2020-04-29\",\"ratio\":1.45472},{\"period\":\"2020-04-30\",\"ratio\":1.94453},{\"period\":\"2020-05-01\",\"ratio\":1.19109},{\"period\":\"2020-05-02\",\"ratio\":6.19392},{\"period\":\"2020-05-03\",\"ratio\":1.6334},{\"period\":\"2020-05-04\",\"ratio\":1.37966},{\"period\":\"2020-05-05\",\"ratio\":2.20009},{\"period\":\"2020-05-06\",\"ratio\":1.61833},{\"period\":\"2020-05-07\",\"ratio\":1.52731},{\"period\":\"2020-05-08\",\"ratio\":1.31959},{\"period\":\"2020-05-09\",\"ratio\":2.114},{\"period\":\"2020-05-10\",\"ratio\":2.00909},{\"period\":\"2020-05-11\",\"ratio\":1.73959},{\"period\":\"2020-05-12\",\"ratio\":1.57964},{\"period\":\"2020-05-13\",\"ratio\":1.56314},{\"period\":\"2020-05-14\",\"ratio\":1.17687},{\"period\":\"2020-05-15\",\"ratio\":1.10661},{\"period\":\"2020-05-16\",\"ratio\":1.50665},{\"period\":\"2020-05-17\",\"ratio\":1.16597},{\"period\":\"2020-05-18\",\"ratio\":1.33154},{\"period\":\"2020-05-19\",\"ratio\":1.08449},{\"period\":\"2020-05-20\",\"ratio\":0.98704},{\"period\":\"2020-05-21\",\"ratio\":0.86436},{\"period\":\"2020-05-22\",\"ratio\":0.80222},{\"period\":\"2020-05-23\",\"ratio\":1.04559},{\"period\":\"2020-05-24\",\"ratio\":0.96739},{\"period\":\"2020-05-25\",\"ratio\":1.17014},{\"period\":\"2020-05-26\",\"ratio\":1.15428},{\"period\":\"2020-05-27\",\"ratio\":1.12836},{\"period\":\"2020-05-28\",\"ratio\":1.06037},{\"period\":\"2020-05-29\",\"ratio\":1.22504},{\"period\":\"2020-05-30\",\"ratio\":0.88798},{\"period\":\"2020-05-31\",\"ratio\":0.88965},{\"period\":\"2020-06-01\",\"ratio\":1.3412},{\"period\":\"2020-06-02\",\"ratio\":0.8606},{\"period\":\"2020-06-03\",\"ratio\":0.98145},{\"period\":\"2020-06-04\",\"ratio\":1.07101},{\"period\":\"2020-06-05\",\"ratio\":1.70446},{\"period\":\"2020-06-06\",\"ratio\":0.89174},{\"period\":\"2020-06-07\",\"ratio\":0.65541},{\"period\":\"2020-06-08\",\"ratio\":0.94805},{\"period\":\"2020-06-09\",\"ratio\":0.72352},{\"period\":\"2020-06-10\",\"ratio\":0.683},{\"period\":\"2020-06-11\",\"ratio\":0.82272},{\"period\":\"2020-06-12\",\"ratio\":0.82603},{\"period\":\"2020-06-13\",\"ratio\":0.56296},{\"period\":\"2020-06-14\",\"ratio\":1.15769},{\"period\":\"2020-06-15\",\"ratio\":2.3594},{\"period\":\"2020-06-16\",\"ratio\":3.77779},{\"period\":\"2020-06-17\",\"ratio\":1.08183},{\"period\":\"2020-06-18\",\"ratio\":1.22684},{\"period\":\"2020-06-19\",\"ratio\":0.8622},{\"period\":\"2020-06-20\",\"ratio\":0.7673},{\"period\":\"2020-06-21\",\"ratio\":0.62714},{\"period\":\"2020-06-22\",\"ratio\":0.85065},{\"period\":\"2020-06-23\",\"ratio\":0.75152},{\"period\":\"2020-06-24\",\"ratio\":0.70849},{\"period\":\"2020-06-25\",\"ratio\":0.67459},{\"period\":\"2020-06-26\",\"ratio\":0.66965},{\"period\":\"2020-06-27\",\"ratio\":0.5618},{\"period\":\"2020-06-28\",\"ratio\":0.53156},{\"period\":\"2020-06-29\",\"ratio\":0.75333},{\"period\":\"2020-06-30\",\"ratio\":0.81589},{\"period\":\"2020-07-01\",\"ratio\":0.82113},{\"period\":\"2020-07-02\",\"ratio\":0.72997},{\"period\":\"2020-07-03\",\"ratio\":0.61058},{\"period\":\"2020-07-04\",\"ratio\":0.51783},{\"period\":\"2020-07-05\",\"ratio\":0.50576},{\"period\":\"2020-07-06\",\"ratio\":0.74191},{\"period\":\"2020-07-07\",\"ratio\":1.38329},{\"period\":\"2020-07-08\",\"ratio\":1.07572},{\"period\":\"2020-07-09\",\"ratio\":0.69447},{\"period\":\"2020-07-10\",\"ratio\":0.4934},{\"period\":\"2020-07-11\",\"ratio\":1.40986},{\"period\":\"2020-07-12\",\"ratio\":0.70759},{\"period\":\"2020-07-13\",\"ratio\":1.04397},{\"period\":\"2020-07-14\",\"ratio\":0.63681},{\"period\":\"2020-07-15\",\"ratio\":0.47975},{\"period\":\"2020-07-16\",\"ratio\":0.43991},{\"period\":\"2020-07-17\",\"ratio\":0.41843},{\"period\":\"2020-07-18\",\"ratio\":0.33615},{\"period\":\"2020-07-19\",\"ratio\":0.31214},{\"period\":\"2020-07-20\",\"ratio\":0.37969},{\"period\":\"2020-07-21\",\"ratio\":0.37671},{\"period\":\"2020-07-22\",\"ratio\":0.3664},{\"period\":\"2020-07-23\",\"ratio\":0.34625},{\"period\":\"2020-07-24\",\"ratio\":0.30535},{\"period\":\"2020-07-25\",\"ratio\":0.28299},{\"period\":\"2020-07-26\",\"ratio\":0.26942},{\"period\":\"2020-07-27\",\"ratio\":0.31475},{\"period\":\"2020-07-28\",\"ratio\":0.32489},{\"period\":\"2020-07-29\",\"ratio\":0.29359},{\"period\":\"2020-07-30\",\"ratio\":0.28766},{\"period\":\"2020-07-31\",\"ratio\":0.24623},{\"period\":\"2020-08-01\",\"ratio\":0.22351},{\"period\":\"2020-08-02\",\"ratio\":0.22511}]}]}'"
      ]
     },
     "execution_count": 22,
     "metadata": {},
     "output_type": "execute_result"
    }
   ],
   "source": [
    "resp.text"
   ]
  },
  {
   "cell_type": "code",
   "execution_count": 23,
   "metadata": {},
   "outputs": [],
   "source": [
    "result = resp.json()"
   ]
  },
  {
   "cell_type": "code",
   "execution_count": 24,
   "metadata": {},
   "outputs": [
    {
     "data": {
      "text/plain": [
       "{'startDate': '2019-08-03',\n",
       " 'endDate': '2020-08-03',\n",
       " 'timeUnit': 'date',\n",
       " 'results': [{'title': '코로나',\n",
       "   'keywords': ['코로나 현황', '코로나', '코로나 확산'],\n",
       "   'data': [{'period': '2019-08-03', 'ratio': 0.00491},\n",
       "    {'period': '2019-08-04', 'ratio': 0.00478},\n",
       "    {'period': '2019-08-05', 'ratio': 0.00555},\n",
       "    {'period': '2019-08-06', 'ratio': 0.00482},\n",
       "    {'period': '2019-08-07', 'ratio': 0.00493},\n",
       "    {'period': '2019-08-08', 'ratio': 0.00483},\n",
       "    {'period': '2019-08-09', 'ratio': 0.00482},\n",
       "    {'period': '2019-08-10', 'ratio': 0.00528},\n",
       "    {'period': '2019-08-11', 'ratio': 0.00481},\n",
       "    {'period': '2019-08-12', 'ratio': 0.00486},\n",
       "    {'period': '2019-08-13', 'ratio': 0.0053},\n",
       "    {'period': '2019-08-14', 'ratio': 0.00523},\n",
       "    {'period': '2019-08-15', 'ratio': 0.00557},\n",
       "    {'period': '2019-08-16', 'ratio': 0.00473},\n",
       "    {'period': '2019-08-17', 'ratio': 0.00502},\n",
       "    {'period': '2019-08-18', 'ratio': 0.00529},\n",
       "    {'period': '2019-08-19', 'ratio': 0.00494},\n",
       "    {'period': '2019-08-20', 'ratio': 0.00513},\n",
       "    {'period': '2019-08-21', 'ratio': 0.00458},\n",
       "    {'period': '2019-08-22', 'ratio': 0.00472},\n",
       "    {'period': '2019-08-23', 'ratio': 0.0044},\n",
       "    {'period': '2019-08-24', 'ratio': 0.00454},\n",
       "    {'period': '2019-08-25', 'ratio': 0.00435},\n",
       "    {'period': '2019-08-26', 'ratio': 0.00459},\n",
       "    {'period': '2019-08-27', 'ratio': 0.00449},\n",
       "    {'period': '2019-08-28', 'ratio': 0.00411},\n",
       "    {'period': '2019-08-29', 'ratio': 0.00374},\n",
       "    {'period': '2019-08-30', 'ratio': 0.00442},\n",
       "    {'period': '2019-08-31', 'ratio': 0.00424},\n",
       "    {'period': '2019-09-01', 'ratio': 0.00429},\n",
       "    {'period': '2019-09-02', 'ratio': 0.00459},\n",
       "    {'period': '2019-09-03', 'ratio': 0.00414},\n",
       "    {'period': '2019-09-04', 'ratio': 0.00422},\n",
       "    {'period': '2019-09-05', 'ratio': 0.00423},\n",
       "    {'period': '2019-09-06', 'ratio': 0.00395},\n",
       "    {'period': '2019-09-07', 'ratio': 0.00357},\n",
       "    {'period': '2019-09-08', 'ratio': 0.01882},\n",
       "    {'period': '2019-09-09', 'ratio': 0.00504},\n",
       "    {'period': '2019-09-10', 'ratio': 0.00418},\n",
       "    {'period': '2019-09-11', 'ratio': 0.00388},\n",
       "    {'period': '2019-09-12', 'ratio': 0.0038},\n",
       "    {'period': '2019-09-13', 'ratio': 0.00448},\n",
       "    {'period': '2019-09-14', 'ratio': 0.0091},\n",
       "    {'period': '2019-09-15', 'ratio': 0.00445},\n",
       "    {'period': '2019-09-16', 'ratio': 0.00486},\n",
       "    {'period': '2019-09-17', 'ratio': 0.0046},\n",
       "    {'period': '2019-09-18', 'ratio': 0.0052},\n",
       "    {'period': '2019-09-19', 'ratio': 0.00519},\n",
       "    {'period': '2019-09-20', 'ratio': 0.00631},\n",
       "    {'period': '2019-09-21', 'ratio': 0.00478},\n",
       "    {'period': '2019-09-22', 'ratio': 0.00424},\n",
       "    {'period': '2019-09-23', 'ratio': 0.00453},\n",
       "    {'period': '2019-09-24', 'ratio': 0.00412},\n",
       "    {'period': '2019-09-25', 'ratio': 0.00401},\n",
       "    {'period': '2019-09-26', 'ratio': 0.00382},\n",
       "    {'period': '2019-09-27', 'ratio': 0.00458},\n",
       "    {'period': '2019-09-28', 'ratio': 0.00429},\n",
       "    {'period': '2019-09-29', 'ratio': 0.00429},\n",
       "    {'period': '2019-09-30', 'ratio': 0.0044},\n",
       "    {'period': '2019-10-01', 'ratio': 0.00393},\n",
       "    {'period': '2019-10-02', 'ratio': 0.00394},\n",
       "    {'period': '2019-10-03', 'ratio': 0.00476},\n",
       "    {'period': '2019-10-04', 'ratio': 0.00466},\n",
       "    {'period': '2019-10-05', 'ratio': 0.0044},\n",
       "    {'period': '2019-10-06', 'ratio': 0.0039},\n",
       "    {'period': '2019-10-07', 'ratio': 0.00445},\n",
       "    {'period': '2019-10-08', 'ratio': 0.00534},\n",
       "    {'period': '2019-10-09', 'ratio': 0.00436},\n",
       "    {'period': '2019-10-10', 'ratio': 0.00428},\n",
       "    {'period': '2019-10-11', 'ratio': 0.0043},\n",
       "    {'period': '2019-10-12', 'ratio': 0.00391},\n",
       "    {'period': '2019-10-13', 'ratio': 0.00364},\n",
       "    {'period': '2019-10-14', 'ratio': 0.00432},\n",
       "    {'period': '2019-10-15', 'ratio': 0.00414},\n",
       "    {'period': '2019-10-16', 'ratio': 0.00411},\n",
       "    {'period': '2019-10-17', 'ratio': 0.0038},\n",
       "    {'period': '2019-10-18', 'ratio': 0.00442},\n",
       "    {'period': '2019-10-19', 'ratio': 0.0042},\n",
       "    {'period': '2019-10-20', 'ratio': 0.00404},\n",
       "    {'period': '2019-10-21', 'ratio': 0.00444},\n",
       "    {'period': '2019-10-22', 'ratio': 0.0041},\n",
       "    {'period': '2019-10-23', 'ratio': 0.00408},\n",
       "    {'period': '2019-10-24', 'ratio': 0.0046},\n",
       "    {'period': '2019-10-25', 'ratio': 0.00458},\n",
       "    {'period': '2019-10-26', 'ratio': 0.00426},\n",
       "    {'period': '2019-10-27', 'ratio': 0.00375},\n",
       "    {'period': '2019-10-28', 'ratio': 0.0038},\n",
       "    {'period': '2019-10-29', 'ratio': 0.00394},\n",
       "    {'period': '2019-10-30', 'ratio': 0.00412},\n",
       "    {'period': '2019-10-31', 'ratio': 0.00377},\n",
       "    {'period': '2019-11-01', 'ratio': 0.00359},\n",
       "    {'period': '2019-11-02', 'ratio': 0.00361},\n",
       "    {'period': '2019-11-03', 'ratio': 0.00417},\n",
       "    {'period': '2019-11-04', 'ratio': 0.00407},\n",
       "    {'period': '2019-11-05', 'ratio': 0.00392},\n",
       "    {'period': '2019-11-06', 'ratio': 0.00415},\n",
       "    {'period': '2019-11-07', 'ratio': 0.00392},\n",
       "    {'period': '2019-11-08', 'ratio': 0.00349},\n",
       "    {'period': '2019-11-09', 'ratio': 0.0036},\n",
       "    {'period': '2019-11-10', 'ratio': 0.00359},\n",
       "    {'period': '2019-11-11', 'ratio': 0.00394},\n",
       "    {'period': '2019-11-12', 'ratio': 0.00418},\n",
       "    {'period': '2019-11-13', 'ratio': 0.00379},\n",
       "    {'period': '2019-11-14', 'ratio': 0.00385},\n",
       "    {'period': '2019-11-15', 'ratio': 0.00467},\n",
       "    {'period': '2019-11-16', 'ratio': 0.00462},\n",
       "    {'period': '2019-11-17', 'ratio': 0.00434},\n",
       "    {'period': '2019-11-18', 'ratio': 0.00427},\n",
       "    {'period': '2019-11-19', 'ratio': 0.00368},\n",
       "    {'period': '2019-11-20', 'ratio': 0.00412},\n",
       "    {'period': '2019-11-21', 'ratio': 0.00469},\n",
       "    {'period': '2019-11-22', 'ratio': 0.0041},\n",
       "    {'period': '2019-11-23', 'ratio': 0.0043},\n",
       "    {'period': '2019-11-24', 'ratio': 0.00338},\n",
       "    {'period': '2019-11-25', 'ratio': 0.00363},\n",
       "    {'period': '2019-11-26', 'ratio': 0.00393},\n",
       "    {'period': '2019-11-27', 'ratio': 0.00334},\n",
       "    {'period': '2019-11-28', 'ratio': 0.00373},\n",
       "    {'period': '2019-11-29', 'ratio': 0.00344},\n",
       "    {'period': '2019-11-30', 'ratio': 0.00337},\n",
       "    {'period': '2019-12-01', 'ratio': 0.00363},\n",
       "    {'period': '2019-12-02', 'ratio': 0.00386},\n",
       "    {'period': '2019-12-03', 'ratio': 0.00358},\n",
       "    {'period': '2019-12-04', 'ratio': 0.00348},\n",
       "    {'period': '2019-12-05', 'ratio': 0.00386},\n",
       "    {'period': '2019-12-06', 'ratio': 0.0039},\n",
       "    {'period': '2019-12-07', 'ratio': 0.00391},\n",
       "    {'period': '2019-12-08', 'ratio': 0.00369},\n",
       "    {'period': '2019-12-09', 'ratio': 0.00434},\n",
       "    {'period': '2019-12-10', 'ratio': 0.00438},\n",
       "    {'period': '2019-12-11', 'ratio': 0.00395},\n",
       "    {'period': '2019-12-12', 'ratio': 0.00368},\n",
       "    {'period': '2019-12-13', 'ratio': 0.00366},\n",
       "    {'period': '2019-12-14', 'ratio': 0.00361},\n",
       "    {'period': '2019-12-15', 'ratio': 0.00352},\n",
       "    {'period': '2019-12-16', 'ratio': 0.00367},\n",
       "    {'period': '2019-12-17', 'ratio': 0.00371},\n",
       "    {'period': '2019-12-18', 'ratio': 0.00357},\n",
       "    {'period': '2019-12-19', 'ratio': 0.00293},\n",
       "    {'period': '2019-12-20', 'ratio': 0.00376},\n",
       "    {'period': '2019-12-21', 'ratio': 0.00368},\n",
       "    {'period': '2019-12-22', 'ratio': 0.0036},\n",
       "    {'period': '2019-12-23', 'ratio': 0.00346},\n",
       "    {'period': '2019-12-24', 'ratio': 0.00393},\n",
       "    {'period': '2019-12-25', 'ratio': 0.00355},\n",
       "    {'period': '2019-12-26', 'ratio': 0.00408},\n",
       "    {'period': '2019-12-27', 'ratio': 0.00377},\n",
       "    {'period': '2019-12-28', 'ratio': 0.00361},\n",
       "    {'period': '2019-12-29', 'ratio': 0.00312},\n",
       "    {'period': '2019-12-30', 'ratio': 0.00423},\n",
       "    {'period': '2019-12-31', 'ratio': 0.00439},\n",
       "    {'period': '2020-01-01', 'ratio': 0.00349},\n",
       "    {'period': '2020-01-02', 'ratio': 0.00419},\n",
       "    {'period': '2020-01-03', 'ratio': 0.00446},\n",
       "    {'period': '2020-01-04', 'ratio': 0.00491},\n",
       "    {'period': '2020-01-05', 'ratio': 0.00362},\n",
       "    {'period': '2020-01-06', 'ratio': 0.00402},\n",
       "    {'period': '2020-01-07', 'ratio': 0.0041},\n",
       "    {'period': '2020-01-08', 'ratio': 0.00383},\n",
       "    {'period': '2020-01-09', 'ratio': 0.02597},\n",
       "    {'period': '2020-01-10', 'ratio': 0.01972},\n",
       "    {'period': '2020-01-11', 'ratio': 0.00797},\n",
       "    {'period': '2020-01-12', 'ratio': 0.00476},\n",
       "    {'period': '2020-01-13', 'ratio': 0.00492},\n",
       "    {'period': '2020-01-14', 'ratio': 0.00533},\n",
       "    {'period': '2020-01-15', 'ratio': 0.00485},\n",
       "    {'period': '2020-01-16', 'ratio': 0.00665},\n",
       "    {'period': '2020-01-17', 'ratio': 0.00744},\n",
       "    {'period': '2020-01-18', 'ratio': 0.00487},\n",
       "    {'period': '2020-01-19', 'ratio': 0.00498},\n",
       "    {'period': '2020-01-20', 'ratio': 0.03431},\n",
       "    {'period': '2020-01-21', 'ratio': 0.0685},\n",
       "    {'period': '2020-01-22', 'ratio': 0.10825},\n",
       "    {'period': '2020-01-23', 'ratio': 0.47473},\n",
       "    {'period': '2020-01-24', 'ratio': 0.74317},\n",
       "    {'period': '2020-01-25', 'ratio': 0.66239},\n",
       "    {'period': '2020-01-26', 'ratio': 1.0657},\n",
       "    {'period': '2020-01-27', 'ratio': 1.04661},\n",
       "    {'period': '2020-01-28', 'ratio': 1.47246},\n",
       "    {'period': '2020-01-29', 'ratio': 1.39059},\n",
       "    {'period': '2020-01-30', 'ratio': 1.48901},\n",
       "    {'period': '2020-01-31', 'ratio': 2.27297},\n",
       "    {'period': '2020-02-01', 'ratio': 4.80943},\n",
       "    {'period': '2020-02-02', 'ratio': 2.64469},\n",
       "    {'period': '2020-02-03', 'ratio': 2.721},\n",
       "    {'period': '2020-02-04', 'ratio': 2.10798},\n",
       "    {'period': '2020-02-05', 'ratio': 1.92082},\n",
       "    {'period': '2020-02-06', 'ratio': 9.08363},\n",
       "    {'period': '2020-02-07', 'ratio': 5.06647},\n",
       "    {'period': '2020-02-08', 'ratio': 1.74092},\n",
       "    {'period': '2020-02-09', 'ratio': 1.55877},\n",
       "    {'period': '2020-02-10', 'ratio': 1.86237},\n",
       "    {'period': '2020-02-11', 'ratio': 1.45402},\n",
       "    {'period': '2020-02-12', 'ratio': 1.54592},\n",
       "    {'period': '2020-02-13', 'ratio': 1.89854},\n",
       "    {'period': '2020-02-14', 'ratio': 1.43508},\n",
       "    {'period': '2020-02-15', 'ratio': 1.11176},\n",
       "    {'period': '2020-02-16', 'ratio': 1.14245},\n",
       "    {'period': '2020-02-17', 'ratio': 1.34057},\n",
       "    {'period': '2020-02-18', 'ratio': 2.39101},\n",
       "    {'period': '2020-02-19', 'ratio': 8.777},\n",
       "    {'period': '2020-02-20', 'ratio': 20.9437},\n",
       "    {'period': '2020-02-21', 'ratio': 32.39175},\n",
       "    {'period': '2020-02-22', 'ratio': 36.55637},\n",
       "    {'period': '2020-02-23', 'ratio': 36.3611},\n",
       "    {'period': '2020-02-24', 'ratio': 100},\n",
       "    {'period': '2020-02-25', 'ratio': 63.16662},\n",
       "    {'period': '2020-02-26', 'ratio': 47.21347},\n",
       "    {'period': '2020-02-27', 'ratio': 44.96144},\n",
       "    {'period': '2020-02-28', 'ratio': 44.94807},\n",
       "    {'period': '2020-02-29', 'ratio': 37.57934},\n",
       "    {'period': '2020-03-01', 'ratio': 32.32516},\n",
       "    {'period': '2020-03-02', 'ratio': 45.35829},\n",
       "    {'period': '2020-03-03', 'ratio': 34.03839},\n",
       "    {'period': '2020-03-04', 'ratio': 30.63139},\n",
       "    {'period': '2020-03-05', 'ratio': 26.91691},\n",
       "    {'period': '2020-03-06', 'ratio': 25.77268},\n",
       "    {'period': '2020-03-07', 'ratio': 18.70457},\n",
       "    {'period': '2020-03-08', 'ratio': 18.12727},\n",
       "    {'period': '2020-03-09', 'ratio': 23.82084},\n",
       "    {'period': '2020-03-10', 'ratio': 24.84047},\n",
       "    {'period': '2020-03-11', 'ratio': 22.48454},\n",
       "    {'period': '2020-03-12', 'ratio': 20.70731},\n",
       "    {'period': '2020-03-13', 'ratio': 19.31045},\n",
       "    {'period': '2020-03-14', 'ratio': 16.29201},\n",
       "    {'period': '2020-03-15', 'ratio': 13.77914},\n",
       "    {'period': '2020-03-16', 'ratio': 17.95756},\n",
       "    {'period': '2020-03-17', 'ratio': 16.45204},\n",
       "    {'period': '2020-03-18', 'ratio': 16.12963},\n",
       "    {'period': '2020-03-19', 'ratio': 14.22104},\n",
       "    {'period': '2020-03-20', 'ratio': 13.43713},\n",
       "    {'period': '2020-03-21', 'ratio': 11.38915},\n",
       "    {'period': '2020-03-22', 'ratio': 11.40606},\n",
       "    {'period': '2020-03-23', 'ratio': 13.36715},\n",
       "    {'period': '2020-03-24', 'ratio': 13.08735},\n",
       "    {'period': '2020-03-25', 'ratio': 12.38757},\n",
       "    {'period': '2020-03-26', 'ratio': 12.4115},\n",
       "    {'period': '2020-03-27', 'ratio': 12.29545},\n",
       "    {'period': '2020-03-28', 'ratio': 11.30621},\n",
       "    {'period': '2020-03-29', 'ratio': 10.32145},\n",
       "    {'period': '2020-03-30', 'ratio': 11.2656},\n",
       "    {'period': '2020-03-31', 'ratio': 10.68072},\n",
       "    {'period': '2020-04-01', 'ratio': 9.86325},\n",
       "    {'period': '2020-04-02', 'ratio': 11.3001},\n",
       "    {'period': '2020-04-03', 'ratio': 10.06859},\n",
       "    {'period': '2020-04-04', 'ratio': 7.94634},\n",
       "    {'period': '2020-04-05', 'ratio': 7.64887},\n",
       "    {'period': '2020-04-06', 'ratio': 9.81627},\n",
       "    {'period': '2020-04-07', 'ratio': 10.42694},\n",
       "    {'period': '2020-04-08', 'ratio': 9.82135},\n",
       "    {'period': '2020-04-09', 'ratio': 9.35066},\n",
       "    {'period': '2020-04-10', 'ratio': 10.8695},\n",
       "    {'period': '2020-04-11', 'ratio': 9.74334},\n",
       "    {'period': '2020-04-12', 'ratio': 8.27626},\n",
       "    {'period': '2020-04-13', 'ratio': 9.62284},\n",
       "    {'period': '2020-04-14', 'ratio': 8.97051},\n",
       "    {'period': '2020-04-15', 'ratio': 9.17106},\n",
       "    {'period': '2020-04-16', 'ratio': 10.69904},\n",
       "    {'period': '2020-04-17', 'ratio': 8.64399},\n",
       "    {'period': '2020-04-18', 'ratio': 6.66324},\n",
       "    {'period': '2020-04-19', 'ratio': 7.46748},\n",
       "    {'period': '2020-04-20', 'ratio': 9.05757},\n",
       "    {'period': '2020-04-21', 'ratio': 7.39917},\n",
       "    {'period': '2020-04-22', 'ratio': 7.30253},\n",
       "    {'period': '2020-04-23', 'ratio': 6.78451},\n",
       "    {'period': '2020-04-24', 'ratio': 6.86142},\n",
       "    {'period': '2020-04-25', 'ratio': 6.02052},\n",
       "    {'period': '2020-04-26', 'ratio': 5.61115},\n",
       "    {'period': '2020-04-27', 'ratio': 6.35029},\n",
       "    {'period': '2020-04-28', 'ratio': 5.80023},\n",
       "    {'period': '2020-04-29', 'ratio': 5.60686},\n",
       "    {'period': '2020-04-30', 'ratio': 4.92632},\n",
       "    {'period': '2020-05-01', 'ratio': 5.39129},\n",
       "    {'period': '2020-05-02', 'ratio': 5.25785},\n",
       "    {'period': '2020-05-03', 'ratio': 5.22394},\n",
       "    {'period': '2020-05-04', 'ratio': 5.66737},\n",
       "    {'period': '2020-05-05', 'ratio': 4.45107},\n",
       "    {'period': '2020-05-06', 'ratio': 5.50977},\n",
       "    {'period': '2020-05-07', 'ratio': 5.86855},\n",
       "    {'period': '2020-05-08', 'ratio': 9.99356},\n",
       "    {'period': '2020-05-09', 'ratio': 11.02552},\n",
       "    {'period': '2020-05-10', 'ratio': 11.25234},\n",
       "    {'period': '2020-05-11', 'ratio': 13.34574},\n",
       "    {'period': '2020-05-12', 'ratio': 10.74454},\n",
       "    {'period': '2020-05-13', 'ratio': 10.1964},\n",
       "    {'period': '2020-05-14', 'ratio': 8.71367},\n",
       "    {'period': '2020-05-15', 'ratio': 6.7517},\n",
       "    {'period': '2020-05-16', 'ratio': 4.87536},\n",
       "    {'period': '2020-05-17', 'ratio': 4.3741},\n",
       "    {'period': '2020-05-18', 'ratio': 5.41866},\n",
       "    {'period': '2020-05-19', 'ratio': 4.99245},\n",
       "    {'period': '2020-05-20', 'ratio': 6.16227},\n",
       "    {'period': '2020-05-21', 'ratio': 5.67717},\n",
       "    {'period': '2020-05-22', 'ratio': 5.18047},\n",
       "    {'period': '2020-05-23', 'ratio': 4.12695},\n",
       "    {'period': '2020-05-24', 'ratio': 3.84723},\n",
       "    {'period': '2020-05-25', 'ratio': 4.77291},\n",
       "    {'period': '2020-05-26', 'ratio': 4.57116},\n",
       "    {'period': '2020-05-27', 'ratio': 6.51892},\n",
       "    {'period': '2020-05-28', 'ratio': 9.84549},\n",
       "    {'period': '2020-05-29', 'ratio': 7.77326},\n",
       "    {'period': '2020-05-30', 'ratio': 5.05249},\n",
       "    {'period': '2020-05-31', 'ratio': 4.75139},\n",
       "    {'period': '2020-06-01', 'ratio': 5.42549},\n",
       "    {'period': '2020-06-02', 'ratio': 4.85866},\n",
       "    {'period': '2020-06-03', 'ratio': 4.94562},\n",
       "    {'period': '2020-06-04', 'ratio': 4.58441},\n",
       "    {'period': '2020-06-05', 'ratio': 4.34604},\n",
       "    {'period': '2020-06-06', 'ratio': 3.98471},\n",
       "    {'period': '2020-06-07', 'ratio': 4.18944},\n",
       "    {'period': '2020-06-08', 'ratio': 5.14001},\n",
       "    {'period': '2020-06-09', 'ratio': 5.01075},\n",
       "    {'period': '2020-06-10', 'ratio': 4.42848},\n",
       "    {'period': '2020-06-11', 'ratio': 4.4566},\n",
       "    {'period': '2020-06-12', 'ratio': 4.84501},\n",
       "    {'period': '2020-06-13', 'ratio': 3.50804},\n",
       "    {'period': '2020-06-14', 'ratio': 3.37419},\n",
       "    {'period': '2020-06-15', 'ratio': 4.5488},\n",
       "    {'period': '2020-06-16', 'ratio': 4.03731},\n",
       "    {'period': '2020-06-17', 'ratio': 4.04403},\n",
       "    {'period': '2020-06-18', 'ratio': 3.91492},\n",
       "    {'period': '2020-06-19', 'ratio': 3.78928},\n",
       "    {'period': '2020-06-20', 'ratio': 3.69936},\n",
       "    {'period': '2020-06-21', 'ratio': 3.62073},\n",
       "    {'period': '2020-06-22', 'ratio': 4.55776},\n",
       "    {'period': '2020-06-23', 'ratio': 4.43082},\n",
       "    {'period': '2020-06-24', 'ratio': 3.74677},\n",
       "    {'period': '2020-06-25', 'ratio': 3.62614},\n",
       "    {'period': '2020-06-26', 'ratio': 3.55123},\n",
       "    {'period': '2020-06-27', 'ratio': 3.24842},\n",
       "    {'period': '2020-06-28', 'ratio': 3.58438},\n",
       "    {'period': '2020-06-29', 'ratio': 4.27253},\n",
       "    {'period': '2020-06-30', 'ratio': 3.46832},\n",
       "    {'period': '2020-07-01', 'ratio': 3.80784},\n",
       "    {'period': '2020-07-02', 'ratio': 4.06999},\n",
       "    {'period': '2020-07-03', 'ratio': 4.17672},\n",
       "    {'period': '2020-07-04', 'ratio': 3.6154},\n",
       "    {'period': '2020-07-05', 'ratio': 5.10531},\n",
       "    {'period': '2020-07-06', 'ratio': 4.84038},\n",
       "    {'period': '2020-07-07', 'ratio': 3.59177},\n",
       "    {'period': '2020-07-08', 'ratio': 3.63308},\n",
       "    {'period': '2020-07-09', 'ratio': 3.40046},\n",
       "    {'period': '2020-07-10', 'ratio': 2.71591},\n",
       "    {'period': '2020-07-11', 'ratio': 2.3985},\n",
       "    {'period': '2020-07-12', 'ratio': 2.51574},\n",
       "    {'period': '2020-07-13', 'ratio': 2.93417},\n",
       "    {'period': '2020-07-14', 'ratio': 2.85844},\n",
       "    {'period': '2020-07-15', 'ratio': 2.5983},\n",
       "    {'period': '2020-07-16', 'ratio': 2.68244},\n",
       "    {'period': '2020-07-17', 'ratio': 2.73557},\n",
       "    {'period': '2020-07-18', 'ratio': 2.22417},\n",
       "    {'period': '2020-07-19', 'ratio': 2.14323},\n",
       "    {'period': '2020-07-20', 'ratio': 2.87162},\n",
       "    {'period': '2020-07-21', 'ratio': 2.70644},\n",
       "    {'period': '2020-07-22', 'ratio': 2.77418},\n",
       "    {'period': '2020-07-23', 'ratio': 2.62633},\n",
       "    {'period': '2020-07-24', 'ratio': 2.6266},\n",
       "    {'period': '2020-07-25', 'ratio': 2.92282},\n",
       "    {'period': '2020-07-26', 'ratio': 2.42378},\n",
       "    {'period': '2020-07-27', 'ratio': 2.36707},\n",
       "    {'period': '2020-07-28', 'ratio': 2.2591},\n",
       "    {'period': '2020-07-29', 'ratio': 2.21554},\n",
       "    {'period': '2020-07-30', 'ratio': 2.35455},\n",
       "    {'period': '2020-07-31', 'ratio': 2.18707},\n",
       "    {'period': '2020-08-01', 'ratio': 1.86059},\n",
       "    {'period': '2020-08-02', 'ratio': 2.00992}]},\n",
       "  {'title': '마스크',\n",
       "   'keywords': ['마스크', '공적마스크', 'kf80', 'kf94'],\n",
       "   'data': [{'period': '2019-08-03', 'ratio': 0.00883},\n",
       "    {'period': '2019-08-04', 'ratio': 0.00956},\n",
       "    {'period': '2019-08-05', 'ratio': 0.01132},\n",
       "    {'period': '2019-08-06', 'ratio': 0.01141},\n",
       "    {'period': '2019-08-07', 'ratio': 0.01129},\n",
       "    {'period': '2019-08-08', 'ratio': 0.01144},\n",
       "    {'period': '2019-08-09', 'ratio': 0.01091},\n",
       "    {'period': '2019-08-10', 'ratio': 0.01015},\n",
       "    {'period': '2019-08-11', 'ratio': 0.01118},\n",
       "    {'period': '2019-08-12', 'ratio': 0.01319},\n",
       "    {'period': '2019-08-13', 'ratio': 0.35411},\n",
       "    {'period': '2019-08-14', 'ratio': 0.01365},\n",
       "    {'period': '2019-08-15', 'ratio': 0.01053},\n",
       "    {'period': '2019-08-16', 'ratio': 0.0113},\n",
       "    {'period': '2019-08-17', 'ratio': 0.01016},\n",
       "    {'period': '2019-08-18', 'ratio': 0.01209},\n",
       "    {'period': '2019-08-19', 'ratio': 0.01231},\n",
       "    {'period': '2019-08-20', 'ratio': 0.01232},\n",
       "    {'period': '2019-08-21', 'ratio': 0.01147},\n",
       "    {'period': '2019-08-22', 'ratio': 0.01303},\n",
       "    {'period': '2019-08-23', 'ratio': 0.0122},\n",
       "    {'period': '2019-08-24', 'ratio': 0.0117},\n",
       "    {'period': '2019-08-25', 'ratio': 0.0122},\n",
       "    {'period': '2019-08-26', 'ratio': 0.01356},\n",
       "    {'period': '2019-08-27', 'ratio': 0.01293},\n",
       "    {'period': '2019-08-28', 'ratio': 0.01422},\n",
       "    {'period': '2019-08-29', 'ratio': 0.01344},\n",
       "    {'period': '2019-08-30', 'ratio': 0.01215},\n",
       "    {'period': '2019-08-31', 'ratio': 0.01176},\n",
       "    {'period': '2019-09-01', 'ratio': 0.01486},\n",
       "    {'period': '2019-09-02', 'ratio': 0.01553},\n",
       "    {'period': '2019-09-03', 'ratio': 0.01691},\n",
       "    {'period': '2019-09-04', 'ratio': 0.01513},\n",
       "    {'period': '2019-09-05', 'ratio': 0.0151},\n",
       "    {'period': '2019-09-06', 'ratio': 0.0131},\n",
       "    {'period': '2019-09-07', 'ratio': 0.01055},\n",
       "    {'period': '2019-09-08', 'ratio': 0.01258},\n",
       "    {'period': '2019-09-09', 'ratio': 0.0178},\n",
       "    {'period': '2019-09-10', 'ratio': 0.01451},\n",
       "    {'period': '2019-09-11', 'ratio': 0.01092},\n",
       "    {'period': '2019-09-12', 'ratio': 0.00897},\n",
       "    {'period': '2019-09-13', 'ratio': 0.00848},\n",
       "    {'period': '2019-09-14', 'ratio': 0.01023},\n",
       "    {'period': '2019-09-15', 'ratio': 0.01309},\n",
       "    {'period': '2019-09-16', 'ratio': 0.01804},\n",
       "    {'period': '2019-09-17', 'ratio': 0.01757},\n",
       "    {'period': '2019-09-18', 'ratio': 0.01909},\n",
       "    {'period': '2019-09-19', 'ratio': 0.01939},\n",
       "    {'period': '2019-09-20', 'ratio': 0.0168},\n",
       "    {'period': '2019-09-21', 'ratio': 0.01462},\n",
       "    {'period': '2019-09-22', 'ratio': 0.01473},\n",
       "    {'period': '2019-09-23', 'ratio': 0.01931},\n",
       "    {'period': '2019-09-24', 'ratio': 0.02053},\n",
       "    {'period': '2019-09-25', 'ratio': 0.0183},\n",
       "    {'period': '2019-09-26', 'ratio': 0.01777},\n",
       "    {'period': '2019-09-27', 'ratio': 0.01494},\n",
       "    {'period': '2019-09-28', 'ratio': 0.01274},\n",
       "    {'period': '2019-09-29', 'ratio': 0.01355},\n",
       "    {'period': '2019-09-30', 'ratio': 0.02087},\n",
       "    {'period': '2019-10-01', 'ratio': 0.02297},\n",
       "    {'period': '2019-10-02', 'ratio': 0.01801},\n",
       "    {'period': '2019-10-03', 'ratio': 0.01429},\n",
       "    {'period': '2019-10-04', 'ratio': 0.01708},\n",
       "    {'period': '2019-10-05', 'ratio': 0.02099},\n",
       "    {'period': '2019-10-06', 'ratio': 0.01725},\n",
       "    {'period': '2019-10-07', 'ratio': 0.02142},\n",
       "    {'period': '2019-10-08', 'ratio': 0.02134},\n",
       "    {'period': '2019-10-09', 'ratio': 0.0199},\n",
       "    {'period': '2019-10-10', 'ratio': 0.02362},\n",
       "    {'period': '2019-10-11', 'ratio': 0.02038},\n",
       "    {'period': '2019-10-12', 'ratio': 0.29307},\n",
       "    {'period': '2019-10-13', 'ratio': 0.02319},\n",
       "    {'period': '2019-10-14', 'ratio': 0.02568},\n",
       "    {'period': '2019-10-15', 'ratio': 0.02704},\n",
       "    {'period': '2019-10-16', 'ratio': 0.02833},\n",
       "    {'period': '2019-10-17', 'ratio': 0.02616},\n",
       "    {'period': '2019-10-18', 'ratio': 0.02244},\n",
       "    {'period': '2019-10-19', 'ratio': 0.02049},\n",
       "    {'period': '2019-10-20', 'ratio': 0.02624},\n",
       "    {'period': '2019-10-21', 'ratio': 0.03779},\n",
       "    {'period': '2019-10-22', 'ratio': 0.0311},\n",
       "    {'period': '2019-10-23', 'ratio': 0.02599},\n",
       "    {'period': '2019-10-24', 'ratio': 0.03121},\n",
       "    {'period': '2019-10-25', 'ratio': 0.02304},\n",
       "    {'period': '2019-10-26', 'ratio': 0.01958},\n",
       "    {'period': '2019-10-27', 'ratio': 0.02208},\n",
       "    {'period': '2019-10-28', 'ratio': 0.03126},\n",
       "    {'period': '2019-10-29', 'ratio': 0.04537},\n",
       "    {'period': '2019-10-30', 'ratio': 0.03261},\n",
       "    {'period': '2019-10-31', 'ratio': 0.03523},\n",
       "    {'period': '2019-11-01', 'ratio': 0.05443},\n",
       "    {'period': '2019-11-02', 'ratio': 0.03044},\n",
       "    {'period': '2019-11-03', 'ratio': 0.03109},\n",
       "    {'period': '2019-11-04', 'ratio': 0.0309},\n",
       "    {'period': '2019-11-05', 'ratio': 0.03142},\n",
       "    {'period': '2019-11-06', 'ratio': 0.03423},\n",
       "    {'period': '2019-11-07', 'ratio': 0.03106},\n",
       "    {'period': '2019-11-08', 'ratio': 0.03105},\n",
       "    {'period': '2019-11-09', 'ratio': 0.0242},\n",
       "    {'period': '2019-11-10', 'ratio': 0.02613},\n",
       "    {'period': '2019-11-11', 'ratio': 0.03168},\n",
       "    {'period': '2019-11-12', 'ratio': 0.03353},\n",
       "    {'period': '2019-11-13', 'ratio': 0.03271},\n",
       "    {'period': '2019-11-14', 'ratio': 0.0416},\n",
       "    {'period': '2019-11-15', 'ratio': 0.03321},\n",
       "    {'period': '2019-11-16', 'ratio': 0.02456},\n",
       "    {'period': '2019-11-17', 'ratio': 0.02721},\n",
       "    {'period': '2019-11-18', 'ratio': 0.04386},\n",
       "    {'period': '2019-11-19', 'ratio': 0.04597},\n",
       "    {'period': '2019-11-20', 'ratio': 0.04382},\n",
       "    {'period': '2019-11-21', 'ratio': 0.03838},\n",
       "    {'period': '2019-11-22', 'ratio': 0.02834},\n",
       "    {'period': '2019-11-23', 'ratio': 0.02136},\n",
       "    {'period': '2019-11-24', 'ratio': 0.02223},\n",
       "    {'period': '2019-11-25', 'ratio': 0.03361},\n",
       "    {'period': '2019-11-26', 'ratio': 0.03036},\n",
       "    {'period': '2019-11-27', 'ratio': 0.03028},\n",
       "    {'period': '2019-11-28', 'ratio': 0.03014},\n",
       "    {'period': '2019-11-29', 'ratio': 0.02824},\n",
       "    {'period': '2019-11-30', 'ratio': 0.02422},\n",
       "    {'period': '2019-12-01', 'ratio': 0.03624},\n",
       "    {'period': '2019-12-02', 'ratio': 0.04731},\n",
       "    {'period': '2019-12-03', 'ratio': 0.04868},\n",
       "    {'period': '2019-12-04', 'ratio': 0.04123},\n",
       "    {'period': '2019-12-05', 'ratio': 0.04873},\n",
       "    {'period': '2019-12-06', 'ratio': 0.04639},\n",
       "    {'period': '2019-12-07', 'ratio': 0.03674},\n",
       "    {'period': '2019-12-08', 'ratio': 0.04093},\n",
       "    {'period': '2019-12-09', 'ratio': 0.05669},\n",
       "    {'period': '2019-12-10', 'ratio': 0.10899},\n",
       "    {'period': '2019-12-11', 'ratio': 0.10876},\n",
       "    {'period': '2019-12-12', 'ratio': 0.04894},\n",
       "    {'period': '2019-12-13', 'ratio': 0.03699},\n",
       "    {'period': '2019-12-14', 'ratio': 0.03213},\n",
       "    {'period': '2019-12-15', 'ratio': 0.03096},\n",
       "    {'period': '2019-12-16', 'ratio': 0.03316},\n",
       "    {'period': '2019-12-17', 'ratio': 0.03243},\n",
       "    {'period': '2019-12-18', 'ratio': 0.03049},\n",
       "    {'period': '2019-12-19', 'ratio': 0.03047},\n",
       "    {'period': '2019-12-20', 'ratio': 0.02774},\n",
       "    {'period': '2019-12-21', 'ratio': 0.02473},\n",
       "    {'period': '2019-12-22', 'ratio': 0.02813},\n",
       "    {'period': '2019-12-23', 'ratio': 0.03393},\n",
       "    {'period': '2019-12-24', 'ratio': 0.03047},\n",
       "    {'period': '2019-12-25', 'ratio': 0.02998},\n",
       "    {'period': '2019-12-26', 'ratio': 0.03861},\n",
       "    {'period': '2019-12-27', 'ratio': 0.03638},\n",
       "    {'period': '2019-12-28', 'ratio': 0.0281},\n",
       "    {'period': '2019-12-29', 'ratio': 0.02586},\n",
       "    {'period': '2019-12-30', 'ratio': 0.02908},\n",
       "    {'period': '2019-12-31', 'ratio': 0.02833},\n",
       "    {'period': '2020-01-01', 'ratio': 0.0281},\n",
       "    {'period': '2020-01-02', 'ratio': 0.03723},\n",
       "    {'period': '2020-01-03', 'ratio': 0.04174},\n",
       "    {'period': '2020-01-04', 'ratio': 0.03436},\n",
       "    {'period': '2020-01-05', 'ratio': 0.03094},\n",
       "    {'period': '2020-01-06', 'ratio': 0.03653},\n",
       "    {'period': '2020-01-07', 'ratio': 0.0322},\n",
       "    {'period': '2020-01-08', 'ratio': 0.03355},\n",
       "    {'period': '2020-01-09', 'ratio': 0.03419},\n",
       "    {'period': '2020-01-10', 'ratio': 0.03431},\n",
       "    {'period': '2020-01-11', 'ratio': 0.03162},\n",
       "    {'period': '2020-01-12', 'ratio': 0.02978},\n",
       "    {'period': '2020-01-13', 'ratio': 0.03834},\n",
       "    {'period': '2020-01-14', 'ratio': 0.03662},\n",
       "    {'period': '2020-01-15', 'ratio': 0.03411},\n",
       "    {'period': '2020-01-16', 'ratio': 0.03331},\n",
       "    {'period': '2020-01-17', 'ratio': 0.02927},\n",
       "    {'period': '2020-01-18', 'ratio': 0.02729},\n",
       "    {'period': '2020-01-19', 'ratio': 0.03019},\n",
       "    {'period': '2020-01-20', 'ratio': 0.04842},\n",
       "    {'period': '2020-01-21', 'ratio': 0.07089},\n",
       "    {'period': '2020-01-22', 'ratio': 0.09982},\n",
       "    {'period': '2020-01-23', 'ratio': 0.13981},\n",
       "    {'period': '2020-01-24', 'ratio': 0.14402},\n",
       "    {'period': '2020-01-25', 'ratio': 0.33449},\n",
       "    {'period': '2020-01-26', 'ratio': 0.69948},\n",
       "    {'period': '2020-01-27', 'ratio': 1.98871},\n",
       "    {'period': '2020-01-28', 'ratio': 5.12496},\n",
       "    {'period': '2020-01-29', 'ratio': 5.31248},\n",
       "    {'period': '2020-01-30', 'ratio': 5.70167},\n",
       "    {'period': '2020-01-31', 'ratio': 7.87448},\n",
       "    {'period': '2020-02-01', 'ratio': 5.36085},\n",
       "    {'period': '2020-02-02', 'ratio': 5.20513},\n",
       "    {'period': '2020-02-03', 'ratio': 5.91548},\n",
       "    {'period': '2020-02-04', 'ratio': 4.54974},\n",
       "    {'period': '2020-02-05', 'ratio': 4.7313},\n",
       "    {'period': '2020-02-06', 'ratio': 4.71163},\n",
       "    {'period': '2020-02-07', 'ratio': 4.45558},\n",
       "    {'period': '2020-02-08', 'ratio': 3.60432},\n",
       "    {'period': '2020-02-09', 'ratio': 2.75406},\n",
       "    {'period': '2020-02-10', 'ratio': 3.08534},\n",
       "    {'period': '2020-02-11', 'ratio': 2.3564},\n",
       "    {'period': '2020-02-12', 'ratio': 1.85883},\n",
       "    {'period': '2020-02-13', 'ratio': 1.63694},\n",
       "    {'period': '2020-02-14', 'ratio': 1.08134},\n",
       "    {'period': '2020-02-15', 'ratio': 0.80943},\n",
       "    {'period': '2020-02-16', 'ratio': 0.75251},\n",
       "    {'period': '2020-02-17', 'ratio': 1.20414},\n",
       "    {'period': '2020-02-18', 'ratio': 1.63608},\n",
       "    {'period': '2020-02-19', 'ratio': 4.49367},\n",
       "    {'period': '2020-02-20', 'ratio': 7.23217},\n",
       "    {'period': '2020-02-21', 'ratio': 10.66224},\n",
       "    {'period': '2020-02-22', 'ratio': 11.28722},\n",
       "    {'period': '2020-02-23', 'ratio': 12.24383},\n",
       "    {'period': '2020-02-24', 'ratio': 19.25753},\n",
       "    {'period': '2020-02-25', 'ratio': 18.42411},\n",
       "    {'period': '2020-02-26', 'ratio': 15.36875},\n",
       "    {'period': '2020-02-27', 'ratio': 14.13358},\n",
       "    {'period': '2020-02-28', 'ratio': 15.14899},\n",
       "    {'period': '2020-02-29', 'ratio': 12.61839},\n",
       "    {'period': '2020-03-01', 'ratio': 10.84213},\n",
       "    {'period': '2020-03-02', 'ratio': 19.17857},\n",
       "    {'period': '2020-03-03', 'ratio': 14.79052},\n",
       "    {'period': '2020-03-04', 'ratio': 11.57039},\n",
       "    {'period': '2020-03-05', 'ratio': 12.31984},\n",
       "    {'period': '2020-03-06', 'ratio': 10.21767},\n",
       "    {'period': '2020-03-07', 'ratio': 7.21352},\n",
       "    {'period': '2020-03-08', 'ratio': 5.82881},\n",
       "    {'period': '2020-03-09', 'ratio': 6.80089},\n",
       "    {'period': '2020-03-10', 'ratio': 5.69839},\n",
       "    {'period': '2020-03-11', 'ratio': 7.48965},\n",
       "    {'period': '2020-03-12', 'ratio': 8.37074},\n",
       "    {'period': '2020-03-13', 'ratio': 52.6507},\n",
       "    {'period': '2020-03-14', 'ratio': 68.59765},\n",
       "    {'period': '2020-03-15', 'ratio': 34.91047},\n",
       "    {'period': '2020-03-16', 'ratio': 43.49721},\n",
       "    {'period': '2020-03-17', 'ratio': 35.97676},\n",
       "    {'period': '2020-03-18', 'ratio': 30.88751},\n",
       "    {'period': '2020-03-19', 'ratio': 28.19022},\n",
       "    {'period': '2020-03-20', 'ratio': 27.64342},\n",
       "    {'period': '2020-03-21', 'ratio': 35.1109},\n",
       "    {'period': '2020-03-22', 'ratio': 18.86169},\n",
       "    {'period': '2020-03-23', 'ratio': 23.56759},\n",
       "    {'period': '2020-03-24', 'ratio': 21.0588},\n",
       "    {'period': '2020-03-25', 'ratio': 18.78283},\n",
       "    {'period': '2020-03-26', 'ratio': 16.67093},\n",
       "    {'period': '2020-03-27', 'ratio': 14.81531},\n",
       "    {'period': '2020-03-28', 'ratio': 25.23525},\n",
       "    {'period': '2020-03-29', 'ratio': 15.03776},\n",
       "    {'period': '2020-03-30', 'ratio': 14.60544},\n",
       "    {'period': '2020-03-31', 'ratio': 11.90491},\n",
       "    {'period': '2020-04-01', 'ratio': 9.21294},\n",
       "    {'period': '2020-04-02', 'ratio': 9.68749},\n",
       "    {'period': '2020-04-03', 'ratio': 8.42252},\n",
       "    {'period': '2020-04-04', 'ratio': 13.00672},\n",
       "    {'period': '2020-04-05', 'ratio': 8.23575},\n",
       "    {'period': '2020-04-06', 'ratio': 8.56761},\n",
       "    {'period': '2020-04-07', 'ratio': 6.28444},\n",
       "    {'period': '2020-04-08', 'ratio': 5.46564},\n",
       "    {'period': '2020-04-09', 'ratio': 4.60123},\n",
       "    {'period': '2020-04-10', 'ratio': 2.78044},\n",
       "    {'period': '2020-04-11', 'ratio': 4.42303},\n",
       "    {'period': '2020-04-12', 'ratio': 4.81656},\n",
       "    {'period': '2020-04-13', 'ratio': 4.22298},\n",
       "    {'period': '2020-04-14', 'ratio': 3.11347},\n",
       "    {'period': '2020-04-15', 'ratio': 3.51426},\n",
       "    {'period': '2020-04-16', 'ratio': 1.72288},\n",
       "    {'period': '2020-04-17', 'ratio': 1.77637},\n",
       "    {'period': '2020-04-18', 'ratio': 2.76962},\n",
       "    {'period': '2020-04-19', 'ratio': 2.09475},\n",
       "    {'period': '2020-04-20', 'ratio': 2.27152},\n",
       "    {'period': '2020-04-21', 'ratio': 2.02986},\n",
       "    {'period': '2020-04-22', 'ratio': 1.80838},\n",
       "    {'period': '2020-04-23', 'ratio': 1.7512},\n",
       "    {'period': '2020-04-24', 'ratio': 2.4358},\n",
       "    {'period': '2020-04-25', 'ratio': 2.9294},\n",
       "    {'period': '2020-04-26', 'ratio': 2.17973},\n",
       "    {'period': '2020-04-27', 'ratio': 5.03502},\n",
       "    {'period': '2020-04-28', 'ratio': 2.05537},\n",
       "    {'period': '2020-04-29', 'ratio': 1.45472},\n",
       "    {'period': '2020-04-30', 'ratio': 1.94453},\n",
       "    {'period': '2020-05-01', 'ratio': 1.19109},\n",
       "    {'period': '2020-05-02', 'ratio': 6.19392},\n",
       "    {'period': '2020-05-03', 'ratio': 1.6334},\n",
       "    {'period': '2020-05-04', 'ratio': 1.37966},\n",
       "    {'period': '2020-05-05', 'ratio': 2.20009},\n",
       "    {'period': '2020-05-06', 'ratio': 1.61833},\n",
       "    {'period': '2020-05-07', 'ratio': 1.52731},\n",
       "    {'period': '2020-05-08', 'ratio': 1.31959},\n",
       "    {'period': '2020-05-09', 'ratio': 2.114},\n",
       "    {'period': '2020-05-10', 'ratio': 2.00909},\n",
       "    {'period': '2020-05-11', 'ratio': 1.73959},\n",
       "    {'period': '2020-05-12', 'ratio': 1.57964},\n",
       "    {'period': '2020-05-13', 'ratio': 1.56314},\n",
       "    {'period': '2020-05-14', 'ratio': 1.17687},\n",
       "    {'period': '2020-05-15', 'ratio': 1.10661},\n",
       "    {'period': '2020-05-16', 'ratio': 1.50665},\n",
       "    {'period': '2020-05-17', 'ratio': 1.16597},\n",
       "    {'period': '2020-05-18', 'ratio': 1.33154},\n",
       "    {'period': '2020-05-19', 'ratio': 1.08449},\n",
       "    {'period': '2020-05-20', 'ratio': 0.98704},\n",
       "    {'period': '2020-05-21', 'ratio': 0.86436},\n",
       "    {'period': '2020-05-22', 'ratio': 0.80222},\n",
       "    {'period': '2020-05-23', 'ratio': 1.04559},\n",
       "    {'period': '2020-05-24', 'ratio': 0.96739},\n",
       "    {'period': '2020-05-25', 'ratio': 1.17014},\n",
       "    {'period': '2020-05-26', 'ratio': 1.15428},\n",
       "    {'period': '2020-05-27', 'ratio': 1.12836},\n",
       "    {'period': '2020-05-28', 'ratio': 1.06037},\n",
       "    {'period': '2020-05-29', 'ratio': 1.22504},\n",
       "    {'period': '2020-05-30', 'ratio': 0.88798},\n",
       "    {'period': '2020-05-31', 'ratio': 0.88965},\n",
       "    {'period': '2020-06-01', 'ratio': 1.3412},\n",
       "    {'period': '2020-06-02', 'ratio': 0.8606},\n",
       "    {'period': '2020-06-03', 'ratio': 0.98145},\n",
       "    {'period': '2020-06-04', 'ratio': 1.07101},\n",
       "    {'period': '2020-06-05', 'ratio': 1.70446},\n",
       "    {'period': '2020-06-06', 'ratio': 0.89174},\n",
       "    {'period': '2020-06-07', 'ratio': 0.65541},\n",
       "    {'period': '2020-06-08', 'ratio': 0.94805},\n",
       "    {'period': '2020-06-09', 'ratio': 0.72352},\n",
       "    {'period': '2020-06-10', 'ratio': 0.683},\n",
       "    {'period': '2020-06-11', 'ratio': 0.82272},\n",
       "    {'period': '2020-06-12', 'ratio': 0.82603},\n",
       "    {'period': '2020-06-13', 'ratio': 0.56296},\n",
       "    {'period': '2020-06-14', 'ratio': 1.15769},\n",
       "    {'period': '2020-06-15', 'ratio': 2.3594},\n",
       "    {'period': '2020-06-16', 'ratio': 3.77779},\n",
       "    {'period': '2020-06-17', 'ratio': 1.08183},\n",
       "    {'period': '2020-06-18', 'ratio': 1.22684},\n",
       "    {'period': '2020-06-19', 'ratio': 0.8622},\n",
       "    {'period': '2020-06-20', 'ratio': 0.7673},\n",
       "    {'period': '2020-06-21', 'ratio': 0.62714},\n",
       "    {'period': '2020-06-22', 'ratio': 0.85065},\n",
       "    {'period': '2020-06-23', 'ratio': 0.75152},\n",
       "    {'period': '2020-06-24', 'ratio': 0.70849},\n",
       "    {'period': '2020-06-25', 'ratio': 0.67459},\n",
       "    {'period': '2020-06-26', 'ratio': 0.66965},\n",
       "    {'period': '2020-06-27', 'ratio': 0.5618},\n",
       "    {'period': '2020-06-28', 'ratio': 0.53156},\n",
       "    {'period': '2020-06-29', 'ratio': 0.75333},\n",
       "    {'period': '2020-06-30', 'ratio': 0.81589},\n",
       "    {'period': '2020-07-01', 'ratio': 0.82113},\n",
       "    {'period': '2020-07-02', 'ratio': 0.72997},\n",
       "    {'period': '2020-07-03', 'ratio': 0.61058},\n",
       "    {'period': '2020-07-04', 'ratio': 0.51783},\n",
       "    {'period': '2020-07-05', 'ratio': 0.50576},\n",
       "    {'period': '2020-07-06', 'ratio': 0.74191},\n",
       "    {'period': '2020-07-07', 'ratio': 1.38329},\n",
       "    {'period': '2020-07-08', 'ratio': 1.07572},\n",
       "    {'period': '2020-07-09', 'ratio': 0.69447},\n",
       "    {'period': '2020-07-10', 'ratio': 0.4934},\n",
       "    {'period': '2020-07-11', 'ratio': 1.40986},\n",
       "    {'period': '2020-07-12', 'ratio': 0.70759},\n",
       "    {'period': '2020-07-13', 'ratio': 1.04397},\n",
       "    {'period': '2020-07-14', 'ratio': 0.63681},\n",
       "    {'period': '2020-07-15', 'ratio': 0.47975},\n",
       "    {'period': '2020-07-16', 'ratio': 0.43991},\n",
       "    {'period': '2020-07-17', 'ratio': 0.41843},\n",
       "    {'period': '2020-07-18', 'ratio': 0.33615},\n",
       "    {'period': '2020-07-19', 'ratio': 0.31214},\n",
       "    {'period': '2020-07-20', 'ratio': 0.37969},\n",
       "    {'period': '2020-07-21', 'ratio': 0.37671},\n",
       "    {'period': '2020-07-22', 'ratio': 0.3664},\n",
       "    {'period': '2020-07-23', 'ratio': 0.34625},\n",
       "    {'period': '2020-07-24', 'ratio': 0.30535},\n",
       "    {'period': '2020-07-25', 'ratio': 0.28299},\n",
       "    {'period': '2020-07-26', 'ratio': 0.26942},\n",
       "    {'period': '2020-07-27', 'ratio': 0.31475},\n",
       "    {'period': '2020-07-28', 'ratio': 0.32489},\n",
       "    {'period': '2020-07-29', 'ratio': 0.29359},\n",
       "    {'period': '2020-07-30', 'ratio': 0.28766},\n",
       "    {'period': '2020-07-31', 'ratio': 0.24623},\n",
       "    {'period': '2020-08-01', 'ratio': 0.22351},\n",
       "    {'period': '2020-08-02', 'ratio': 0.22511}]}]}"
      ]
     },
     "execution_count": 24,
     "metadata": {},
     "output_type": "execute_result"
    }
   ],
   "source": [
    "result"
   ]
  },
  {
   "cell_type": "code",
   "execution_count": null,
   "metadata": {},
   "outputs": [],
   "source": []
  }
 ],
 "metadata": {
  "kernelspec": {
   "display_name": "Python 3",
   "language": "python",
   "name": "python3"
  },
  "language_info": {
   "codemirror_mode": {
    "name": "ipython",
    "version": 3
   },
   "file_extension": ".py",
   "mimetype": "text/x-python",
   "name": "python",
   "nbconvert_exporter": "python",
   "pygments_lexer": "ipython3",
   "version": "3.8.3"
  }
 },
 "nbformat": 4,
 "nbformat_minor": 4
}
